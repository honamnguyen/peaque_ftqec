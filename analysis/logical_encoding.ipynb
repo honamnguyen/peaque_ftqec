{
 "cells": [
  {
   "cell_type": "code",
   "execution_count": 15,
   "metadata": {},
   "outputs": [],
   "source": [
    "import numpy as np, matplotlib.pyplot as plt\n",
    "import itertools\n",
    "\n",
    "from qulacs import QuantumState, QuantumCircuit\n",
    "from qulacs.gate import Measurement, H, CNOT, CZ, X\n",
    "\n",
    "from tool.check_encoding import print_state, run_stabilizer_circuit, check_encoding, get_state_dict\n",
    "\n",
    "# def print_state(state, computational_states, num_data=7):\n",
    "#     for i, s in enumerate(computational_states):\n",
    "#         s = s[:num_data] + '|' + s[num_data:]\n",
    "#         if abs(state[i]) > 1e-6:\n",
    "#             print(f'{s}: {state[i].real:.3f}  +  {state[i].imag:.3f}i')  \n",
    "\n",
    "# gatedict = {\n",
    "#     'H': H,\n",
    "#     'CX': CNOT,\n",
    "#     'CZ': CZ,\n",
    "#     'Meas': Measurement,\n",
    "# }\n",
    "\n",
    "# def run_stabilizer_circuit(gate_sequence, num_qubits, num_meas, \n",
    "#                            target_outcomes=None, verbose=False):\n",
    "\n",
    "#     computational_states = [''.join(map(str,i))[::-1] for i in itertools.product([0, 1], repeat=num_qubits)]\n",
    "#     anc_meas = ''\n",
    "\n",
    "#     while anc_meas != target_outcomes:\n",
    "\n",
    "#         state = QuantumState(num_qubits)\n",
    "#         state.set_zero_state()\n",
    "\n",
    "#         circuit = QuantumCircuit(num_qubits)\n",
    "#         for gate, pos in gate_sequence:\n",
    "#             circuit.add_gate(gatedict[gate](*pos))\n",
    "#             # reset qubit manually at each Measurement\n",
    "#             if gate == 'Meas':\n",
    "#                 circuit.update_quantum_state(state)\n",
    "#                 if state.get_classical_value(pos[1]) == 1:\n",
    "#                     circuit = QuantumCircuit(num_qubits)\n",
    "#                     circuit.add_X_gate(pos[0])\n",
    "#                     circuit.update_quantum_state(state)\n",
    "#                 circuit = QuantumCircuit(num_qubits)\n",
    "#         # run the remaining circuit after the last Measurement\n",
    "#         if gate != 'Meas':\n",
    "#             circuit.update_quantum_state(state)   \n",
    "\n",
    "#         anc_meas = ''.join([str(state.get_classical_value(i)) for i in range(num_meas)])\n",
    "\n",
    "#         if target_outcomes is None:\n",
    "#             break\n",
    "\n",
    "#     if verbose:\n",
    "#         print(f'ancilla meas: {anc_meas}')\n",
    "#         print_state(state.get_vector(), computational_states)\n",
    "\n",
    "#     return state, anc_meas\n",
    "    \n",
    "# def get_state_dict(state, computational_states, num_data=7):\n",
    "#     state_dict = {}\n",
    "#     for i, s in enumerate(computational_states):\n",
    "#         s = s[:num_data]\n",
    "#         if abs(state[i]) > 1e-6:\n",
    "#             state_dict[s] = state[i]\n",
    "#     return state_dict\n",
    "\n",
    "# def check_encoding(gate_sequence, num_qubits, num_meas, lut, correct):\n",
    "#     computational_states = [''.join(map(str,i))[::-1] for i in itertools.product([0, 1], repeat=num_qubits)]\n",
    "\n",
    "#     # get code word\n",
    "#     state, anc_meas = run_stabilizer_circuit(gate_sequence, num_qubits, num_meas, target_outcomes='000')\n",
    "#     codeword = get_state_dict(state.get_vector(),computational_states)\n",
    "\n",
    "#     synd_list = list(lut.keys())\n",
    "\n",
    "#     print('Comparision to logical state before and after correction')\n",
    "#     afters = []\n",
    "#     while len(synd_list) > 0:\n",
    "#         state, anc_meas = run_stabilizer_circuit(gate_sequence, num_qubits, num_meas)\n",
    "#         before = get_state_dict(state.get_vector(),computational_states) == codeword\n",
    "#         # print(anc_meas,synd_list)\n",
    "#         if anc_meas in synd_list:\n",
    "#             synd_list.remove(anc_meas)\n",
    "#         else:\n",
    "#             continue\n",
    "\n",
    "#         # correct single qubit\n",
    "#         if anc_meas != '000':\n",
    "#             circuit = QuantumCircuit(num_qubits)\n",
    "#             if correct == 'Z':\n",
    "#                 circuit.add_Z_gate(lut[anc_meas])\n",
    "#             elif correct == 'X':\n",
    "#                 circuit.add_X_gate(lut[anc_meas])\n",
    "#             circuit.update_quantum_state(state)\n",
    "#         after = get_state_dict(state.get_vector(),computational_states) == codeword\n",
    "#         afters.append(after)\n",
    "\n",
    "#         print(f'   synd = {anc_meas}:  {before}  ->  {after}')\n",
    "#     return all(afters)"
   ]
  },
  {
   "cell_type": "markdown",
   "metadata": {},
   "source": [
    "# 3-qubit Bell state"
   ]
  },
  {
   "cell_type": "code",
   "execution_count": 2,
   "metadata": {},
   "outputs": [
    {
     "name": "stdout",
     "output_type": "stream",
     "text": [
      "[0, 0]\n",
      "000|0: 0.500  +  0.000i\n",
      "110|0: 0.500  +  0.000i\n",
      "101|0: 0.500  +  0.000i\n",
      "011|0: 0.500  +  0.000i\n"
     ]
    }
   ],
   "source": [
    "n = 4\n",
    "computational_states = [''.join(map(str,i))[::-1] for i in itertools.product([0, 1], repeat=n)]\n",
    "num_meas = 2\n",
    "\n",
    "state = QuantumState(n)\n",
    "state.set_zero_state()\n",
    "\n",
    "classical_ind = 0\n",
    "circuit = QuantumCircuit(n)\n",
    "\n",
    "circuit.add_H_gate(3)\n",
    "circuit.add_gate(CNOT(3,0))\n",
    "circuit.add_gate(CNOT(3,1))\n",
    "circuit.add_H_gate(3)\n",
    "circuit.add_gate(Measurement(3,classical_ind))\n",
    "classical_ind += 1\n",
    "\n",
    "circuit.add_H_gate(3)\n",
    "circuit.add_gate(CNOT(3,1))\n",
    "circuit.add_gate(CNOT(3,2))\n",
    "circuit.add_H_gate(3)\n",
    "circuit.add_gate(Measurement(3,classical_ind))\n",
    "classical_ind += 1\n",
    "\n",
    "# Operate quantum circuit to state\n",
    "circuit.update_quantum_state(state)\n",
    "\n",
    "print([state.get_classical_value(i) for i in range(num_meas)])\n",
    "print_state(state.get_vector(), computational_states, 3)"
   ]
  },
  {
   "cell_type": "code",
   "execution_count": 3,
   "metadata": {},
   "outputs": [
    {
     "name": "stdout",
     "output_type": "stream",
     "text": [
      "0\n",
      "001|: 1.000  +  0.000i\n"
     ]
    }
   ],
   "source": [
    "n = 3\n",
    "computational_states = [''.join(map(str,i))[::-1] for i in itertools.product([0, 1], repeat=n)]\n",
    "\n",
    "state = QuantumState(n)\n",
    "state.set_zero_state()\n",
    "\n",
    "circuit = QuantumCircuit(n)\n",
    "\n",
    "# Add hadamard gate to quantum circuit\n",
    "circuit.add_H_gate(0)\n",
    "\n",
    "# Create gate, which can also be added\n",
    "circuit.add_gate(CNOT(0,1))\n",
    "circuit.add_gate(CNOT(0,2))\n",
    "circuit.add_gate(Measurement(2,0))\n",
    "circuit.add_gate(X(2))\n",
    "\n",
    "# Operate quantum circuit to state\n",
    "circuit.update_quantum_state(state)\n",
    "\n",
    "print(state.get_classical_value(0))\n",
    "print_state(state.get_vector(), computational_states)"
   ]
  },
  {
   "cell_type": "markdown",
   "metadata": {},
   "source": [
    "# Steane code\n",
    "## No-flag standard circuit with CX"
   ]
  },
  {
   "cell_type": "code",
   "execution_count": 4,
   "metadata": {},
   "outputs": [
    {
     "name": "stdout",
     "output_type": "stream",
     "text": [
      "\n",
      "--- standard X-checks -> logical0 state\n",
      "Comparison to logical state before and after correction\n",
      "   synd = 100:  False  ->  True\n",
      "   synd = 110:  False  ->  True\n",
      "   synd = 001:  False  ->  True\n",
      "   synd = 000:  True  ->  True\n",
      "   synd = 011:  False  ->  True\n",
      "   synd = 101:  False  ->  True\n",
      "   synd = 010:  False  ->  True\n",
      "   synd = 111:  False  ->  True\n"
     ]
    },
    {
     "data": {
      "text/plain": [
       "True"
      ]
     },
     "execution_count": 4,
     "metadata": {},
     "output_type": "execute_result"
    }
   ],
   "source": [
    "# standard X-checks: X3456, X1256, X0246\n",
    "gate_sequence = [\n",
    "    ('H', (7,)),\n",
    "    *[('CX', (control, target)) for control, target in zip([7]*4,[3,4,5,6])],\n",
    "    ('H', (7,)), \n",
    "    ('Meas', (7,0)),\n",
    "\n",
    "    ('H', (7,)),\n",
    "    *[('CX', (control, target)) for control, target in zip([7]*4,[1,2,5,6])],\n",
    "    ('H', (7,)), \n",
    "    ('Meas', (7,1)),\n",
    "\n",
    "    ('H', (7,)),\n",
    "    *[('CX', (control, target)) for control, target in zip([7]*4,[0,2,4,6])],\n",
    "    ('H', (7,)), \n",
    "    ('Meas', (7,2)),\n",
    "]\n",
    "lut = {\n",
    "    '000': 1000, '100': 3, '010': 1, '001': 0,\n",
    "    '110': 5, '101': 4, '011': 2, '111': 6,\n",
    "}\n",
    "\n",
    "num_qubits = 8\n",
    "num_meas = 3\n",
    "\n",
    "check_encoding(gate_sequence, num_qubits, num_meas, lut, \n",
    "               'Z', '\\n--- standard X-checks -> logical0 state')"
   ]
  },
  {
   "cell_type": "code",
   "execution_count": 5,
   "metadata": {},
   "outputs": [
    {
     "name": "stdout",
     "output_type": "stream",
     "text": [
      "\n",
      "--- standard Z-checks -> logical+ state\n",
      "Comparison to logical state before and after correction\n",
      "   synd = 010:  False  ->  True\n",
      "   synd = 110:  False  ->  True\n",
      "   synd = 001:  False  ->  True\n",
      "   synd = 000:  True  ->  True\n",
      "   synd = 011:  False  ->  True\n",
      "   synd = 111:  False  ->  True\n",
      "   synd = 100:  False  ->  True\n",
      "   synd = 101:  False  ->  True\n",
      "\n",
      "--- standard Z-checks + Hadamard -> logical0 state\n",
      "Comparison to logical state before and after correction\n",
      "   synd = 101:  False  ->  True\n",
      "   synd = 110:  False  ->  True\n",
      "   synd = 010:  False  ->  True\n",
      "   synd = 011:  False  ->  True\n",
      "   synd = 000:  True  ->  True\n",
      "   synd = 111:  False  ->  True\n",
      "   synd = 001:  False  ->  True\n",
      "   synd = 100:  False  ->  True\n"
     ]
    },
    {
     "data": {
      "text/plain": [
       "True"
      ]
     },
     "execution_count": 5,
     "metadata": {},
     "output_type": "execute_result"
    }
   ],
   "source": [
    "# standard Z-checks: Z3456, Z1256, Z0246\n",
    "gate_sequence = [\n",
    "    *[('H', (i,)) for i in range(7)],\n",
    "    *[('CX', (control, target)) for control, target in zip([3,4,5,6],[7]*4)],\n",
    "    ('Meas', (7,0)),\n",
    "\n",
    "    *[('CX', (control, target)) for control, target in zip([1,2,5,6],[7]*4)],\n",
    "    ('Meas', (7,1)),\n",
    "\n",
    "    *[('CX', (control, target)) for control, target in zip([0,2,4,6],[7]*4)],\n",
    "    ('Meas', (7,2)),\n",
    "\n",
    "    # *[('H', (i,)) for i in range(7)],\n",
    "]\n",
    "lut = {\n",
    "    '000': 1000, '100': 3, '010': 1, '001': 0,\n",
    "    '110': 5, '101': 4, '011': 2, '111': 6,\n",
    "}\n",
    "\n",
    "num_qubits = 8\n",
    "num_meas = 3\n",
    "\n",
    "check_encoding(gate_sequence, num_qubits, num_meas, lut, \n",
    "               'X', '\\n--- standard Z-checks -> logical+ state')\n",
    "check_encoding(gate_sequence + [('H', (i,)) for i in range(7)], num_qubits, num_meas, lut, \n",
    "               'Z', '\\n--- standard Z-checks + Hadamard -> logical0 state')"
   ]
  },
  {
   "cell_type": "markdown",
   "metadata": {},
   "source": [
    "## 2-flag ancilla-centered Z-checks with CX"
   ]
  },
  {
   "cell_type": "code",
   "execution_count": 18,
   "metadata": {},
   "outputs": [
    {
     "name": "stdout",
     "output_type": "stream",
     "text": [
      "\n",
      "--- 2-flag ancilla-centered Z-checks with CX -> logical+ state\n",
      "Comparison to logical state before and after correction\n",
      "   synd = 110:  False  ->  True\n",
      "   synd = 100:  False  ->  True\n",
      "   synd = 011:  False  ->  True\n",
      "   synd = 000:  True  ->  True\n",
      "   synd = 101:  False  ->  True\n",
      "   synd = 001:  False  ->  True\n",
      "   synd = 111:  False  ->  True\n",
      "   synd = 010:  False  ->  True\n",
      "\n",
      "--- 2-flag ancilla-centered Z-checks with CX +  Hadamard -> logical0 state\n",
      "Comparison to logical state before and after correction\n",
      "   synd = 010:  False  ->  True\n",
      "   synd = 110:  False  ->  True\n",
      "   synd = 000:  True  ->  True\n",
      "   synd = 001:  False  ->  True\n",
      "   synd = 011:  False  ->  True\n",
      "   synd = 111:  False  ->  True\n",
      "   synd = 100:  False  ->  True\n",
      "   synd = 101:  False  ->  True\n"
     ]
    },
    {
     "data": {
      "text/plain": [
       "True"
      ]
     },
     "execution_count": 18,
     "metadata": {},
     "output_type": "execute_result"
    }
   ],
   "source": [
    "# Z-checks: Z0123, Z2415, Z5623\n",
    "gate_sequence = [\n",
    "    *[('H', (i,)) for i in range(7)],\n",
    "\n",
    "    ('H', (8,)), ('H', (9,)),\n",
    "    *[('CX', (control, target)) for control, target in zip([8,9,0,1,2,3,9,8],[7,8,7,7,8,9,8,7])],\n",
    "    ('H', (8,)), ('H', (9,)),\n",
    "    ('Meas', (7,0)),\n",
    "\n",
    "    ('H', (7,)), ('H', (10,)),\n",
    "    *[('CX', (control, target)) for control, target in zip([7,10,2,4,1,5,10,7],[8,7,8,8,7,10,7,8])],\n",
    "    ('H', (7,)), ('H', (10,)),\n",
    "    ('Meas', (8,1)),\n",
    "\n",
    "    ('H', (8,)), ('H', (9,)),\n",
    "    *[('CX', (control, target)) for control, target in zip([8,9,5,6,2,3,9,8],[10,8,10,10,8,9,8,10])],\n",
    "    ('H', (8,)), ('H', (9,)),\n",
    "    ('Meas', (10,2)),\n",
    "\n",
    "    # *[('H', (i,)) for i in range(7)],\n",
    "]\n",
    "lut = {\n",
    "    '000': 1000, '100': 0, '010': 4, '001': 6,\n",
    "    '110': 1, '101': 3, '011': 5, '111': 2,\n",
    "}\n",
    "\n",
    "num_qubits = 11\n",
    "num_meas = 3\n",
    "\n",
    "\n",
    "check_encoding(gate_sequence, num_qubits, num_meas, lut, \n",
    "               'X', '\\n--- 2-flag ancilla-centered Z-checks with CX -> logical+ state')\n",
    "check_encoding(gate_sequence + [('H', (i,)) for i in range(7)], num_qubits, num_meas, lut, \n",
    "               'Z', '\\n--- 2-flag ancilla-centered Z-checks with CX +  Hadamard -> logical0 state')"
   ]
  },
  {
   "cell_type": "code",
   "execution_count": 9,
   "metadata": {},
   "outputs": [
    {
     "name": "stdout",
     "output_type": "stream",
     "text": [
      "ancilla meas: 000\n",
      "0000000|0000: 0.250  +  0.000i\n",
      "1111000|0000: 0.250  +  0.000i\n",
      "1100100|0000: 0.250  +  0.000i\n",
      "0011100|0000: 0.250  +  0.000i\n",
      "1010010|0000: 0.250  +  0.000i\n",
      "0101010|0000: 0.250  +  0.000i\n",
      "0110110|0000: 0.250  +  0.000i\n",
      "1001110|0000: 0.250  +  0.000i\n",
      "0110001|0000: 0.250  +  0.000i\n",
      "1001001|0000: 0.250  +  0.000i\n",
      "1010101|0000: 0.250  +  0.000i\n",
      "0101101|0000: 0.250  +  0.000i\n",
      "1100011|0000: 0.250  +  0.000i\n",
      "0011011|0000: 0.250  +  0.000i\n",
      "0000111|0000: 0.250  +  0.000i\n",
      "1111111|0000: 0.250  +  0.000i\n"
     ]
    },
    {
     "data": {
      "text/plain": [
       "(<qulacs_core.QuantumState at 0x7f87e8a247f0>, '000')"
      ]
     },
     "execution_count": 9,
     "metadata": {},
     "output_type": "execute_result"
    }
   ],
   "source": [
    "run_stabilizer_circuit(gate_sequence, num_qubits, num_meas, target_outcomes='000', verbose=True)"
   ]
  },
  {
   "cell_type": "code",
   "execution_count": 22,
   "metadata": {},
   "outputs": [
    {
     "name": "stdout",
     "output_type": "stream",
     "text": [
      "ancilla meas: 000\n",
      "0000000|0000: 0.354  +  0.000i\n",
      "1111000|0000: 0.354  +  0.000i\n",
      "0110110|0000: 0.354  +  0.000i\n",
      "1001110|0000: 0.354  +  0.000i\n",
      "1010101|0000: 0.354  +  0.000i\n",
      "0101101|0000: 0.354  +  0.000i\n",
      "1100011|0000: 0.354  +  0.000i\n",
      "0011011|0000: 0.354  +  0.000i\n"
     ]
    }
   ],
   "source": [
    "logical0, anc_meas = run_stabilizer_circuit(gate_sequence + [('H', (i,)) for i in range(7)], num_qubits, num_meas, target_outcomes='000', verbose=True)"
   ]
  },
  {
   "cell_type": "code",
   "execution_count": 19,
   "metadata": {},
   "outputs": [
    {
     "data": {
      "text/plain": [
       "{'0000000': (0.35355339059327345+0j),\n",
       " '1111000': (0.35355339059327345+0j),\n",
       " '0110110': (0.35355339059327345+0j),\n",
       " '1001110': (0.35355339059327345+0j),\n",
       " '1010101': (0.35355339059327345+0j),\n",
       " '0101101': (0.35355339059327345+0j),\n",
       " '1100011': (0.35355339059327345+0j),\n",
       " '0011011': (0.35355339059327345+0j)}"
      ]
     },
     "execution_count": 19,
     "metadata": {},
     "output_type": "execute_result"
    }
   ],
   "source": [
    "computational_states = [''.join(map(str,i))[::-1] for i in itertools.product([0, 1], repeat=num_qubits)]\n",
    "get_state_dict(state.get_vector(), computational_states)"
   ]
  },
  {
   "cell_type": "code",
   "execution_count": 26,
   "metadata": {},
   "outputs": [
    {
     "name": "stdout",
     "output_type": "stream",
     "text": [
      "0000000|0000: 0.354  +  0.000i\n",
      "1111000|0000: 0.354  +  0.000i\n",
      "0110110|0000: 0.354  +  0.000i\n",
      "1001110|0000: 0.354  +  0.000i\n",
      "1010101|0000: 0.354  +  0.000i\n",
      "0101101|0000: 0.354  +  0.000i\n",
      "1100011|0000: 0.354  +  0.000i\n",
      "0011011|0000: 0.354  +  0.000i\n"
     ]
    }
   ],
   "source": [
    "print_state(logical0.get_vector(), computational_states)"
   ]
  },
  {
   "cell_type": "code",
   "execution_count": 33,
   "metadata": {},
   "outputs": [
    {
     "name": "stdout",
     "output_type": "stream",
     "text": [
      "0000000|0000: 0.354  +  0.000i\n",
      "1111000|0000: 0.354  +  0.000i\n",
      "0110110|0000: 0.354  +  0.000i\n",
      "1001110|0000: 0.354  +  0.000i\n",
      "1010101|0000: 0.354  +  0.000i\n",
      "0101101|0000: 0.354  +  0.000i\n",
      "1100011|0000: 0.354  +  0.000i\n",
      "0011011|0000: 0.354  +  0.000i\n"
     ]
    },
    {
     "data": {
      "text/plain": [
       "True"
      ]
     },
     "execution_count": 33,
     "metadata": {},
     "output_type": "execute_result"
    }
   ],
   "source": [
    "state = logical0.copy()\n",
    "circuit = QuantumCircuit(num_qubits)\n",
    "# error\n",
    "circuit.add_Z_gate(1)\n",
    "circuit.add_Z_gate(3)\n",
    "circuit.add_Z_gate(4)\n",
    "# correction\n",
    "circuit.add_Z_gate(6)\n",
    "circuit.update_quantum_state(state)\n",
    "print_state(state.get_vector(), computational_states)\n",
    "get_state_dict(logical0.get_vector(), computational_states) == get_state_dict(state.get_vector(), computational_states)"
   ]
  },
  {
   "cell_type": "code",
   "execution_count": 34,
   "metadata": {},
   "outputs": [
    {
     "name": "stdout",
     "output_type": "stream",
     "text": [
      "0000000|0000: 0.354  +  0.000i\n",
      "1111000|0000: 0.354  +  0.000i\n",
      "0110110|0000: 0.354  +  0.000i\n",
      "1001110|0000: 0.354  +  0.000i\n",
      "1010101|0000: 0.354  +  0.000i\n",
      "0101101|0000: 0.354  +  0.000i\n",
      "1100011|0000: 0.354  +  0.000i\n",
      "0011011|0000: 0.354  +  0.000i\n"
     ]
    },
    {
     "data": {
      "text/plain": [
       "True"
      ]
     },
     "execution_count": 34,
     "metadata": {},
     "output_type": "execute_result"
    }
   ],
   "source": [
    "state = logical0.copy()\n",
    "circuit = QuantumCircuit(num_qubits)\n",
    "# error\n",
    "circuit.add_Z_gate(0)\n",
    "circuit.add_Z_gate(1)\n",
    "circuit.add_Z_gate(5)\n",
    "circuit.add_Z_gate(6)\n",
    "# correction\n",
    "# circuit.add_Z_gate(6)\n",
    "circuit.update_quantum_state(state)\n",
    "print_state(state.get_vector(), computational_states)\n",
    "get_state_dict(logical0.get_vector(), computational_states) == get_state_dict(state.get_vector(), computational_states)"
   ]
  },
  {
   "cell_type": "code",
   "execution_count": 36,
   "metadata": {},
   "outputs": [
    {
     "name": "stdout",
     "output_type": "stream",
     "text": [
      "0000000|0000: 0.354  +  0.000i\n",
      "1111000|0000: 0.354  +  0.000i\n",
      "0110110|0000: 0.354  +  0.000i\n",
      "1001110|0000: 0.354  +  0.000i\n",
      "1010101|0000: 0.354  +  0.000i\n",
      "0101101|0000: 0.354  +  0.000i\n",
      "1100011|0000: 0.354  +  0.000i\n",
      "0011011|0000: 0.354  +  0.000i\n"
     ]
    },
    {
     "data": {
      "text/plain": [
       "True"
      ]
     },
     "execution_count": 36,
     "metadata": {},
     "output_type": "execute_result"
    }
   ],
   "source": [
    "state = logical0.copy()\n",
    "circuit = QuantumCircuit(num_qubits)\n",
    "# error\n",
    "circuit.add_Z_gate(2)\n",
    "circuit.add_Z_gate(4)\n",
    "circuit.add_Z_gate(5)\n",
    "circuit.add_Z_gate(6)\n",
    "# correction\n",
    "circuit.add_Z_gate(2)\n",
    "circuit.update_quantum_state(state)\n",
    "print_state(state.get_vector(), computational_states)\n",
    "get_state_dict(logical0.get_vector(), computational_states) == get_state_dict(state.get_vector(), computational_states)"
   ]
  },
  {
   "cell_type": "code",
   "execution_count": 39,
   "metadata": {},
   "outputs": [
    {
     "name": "stdout",
     "output_type": "stream",
     "text": [
      "0000000|0000: 0.354  +  0.000i\n",
      "1111000|0000: 0.354  +  0.000i\n",
      "0110110|0000: 0.354  +  0.000i\n",
      "1001110|0000: 0.354  +  0.000i\n",
      "1010101|0000: 0.354  +  0.000i\n",
      "0101101|0000: 0.354  +  0.000i\n",
      "1100011|0000: 0.354  +  0.000i\n",
      "0011011|0000: 0.354  +  0.000i\n"
     ]
    },
    {
     "data": {
      "text/plain": [
       "True"
      ]
     },
     "execution_count": 39,
     "metadata": {},
     "output_type": "execute_result"
    }
   ],
   "source": [
    "state = logical0.copy()\n",
    "circuit = QuantumCircuit(num_qubits)\n",
    "# error\n",
    "circuit.add_Z_gate(0)\n",
    "circuit.add_Z_gate(1)\n",
    "circuit.add_Z_gate(2)\n",
    "circuit.add_Z_gate(3)\n",
    "circuit.add_Z_gate(4)\n",
    "circuit.add_Z_gate(5)\n",
    "circuit.add_Z_gate(6)\n",
    "# correction\n",
    "# circuit.add_Z_gate(2)\n",
    "circuit.update_quantum_state(state)\n",
    "print_state(state.get_vector(), computational_states)\n",
    "get_state_dict(logical0.get_vector(), computational_states) == get_state_dict(state.get_vector(), computational_states)"
   ]
  }
 ],
 "metadata": {
  "kernelspec": {
   "display_name": "qcircuit64",
   "language": "python",
   "name": "qcircuit64"
  },
  "language_info": {
   "codemirror_mode": {
    "name": "ipython",
    "version": 3
   },
   "file_extension": ".py",
   "mimetype": "text/x-python",
   "name": "python",
   "nbconvert_exporter": "python",
   "pygments_lexer": "ipython3",
   "version": "3.9.0"
  }
 },
 "nbformat": 4,
 "nbformat_minor": 2
}

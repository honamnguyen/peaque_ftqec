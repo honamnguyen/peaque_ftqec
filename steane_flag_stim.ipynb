{
 "cells": [
  {
   "cell_type": "code",
   "execution_count": 1,
   "id": "2d06c3cd-7d14-47bb-b7fa-b9e1fd87502d",
   "metadata": {},
   "outputs": [],
   "source": [
    "import cirq\n",
    "from cirq.contrib.svg import SVGCircuit\n",
    "import qsimcirq\n",
    "import stim\n",
    "import stimcirq\n",
    "import numpy as np\n",
    "import matplotlib.pyplot as plt\n",
    "from qsim_utils import *\n",
    "from stabilizer_sim import * "
   ]
  },
  {
   "cell_type": "markdown",
   "id": "492db568-0401-4c64-8439-f793b0c65b2f",
   "metadata": {},
   "source": [
    "# Encoding"
   ]
  },
  {
   "cell_type": "code",
   "execution_count": 2,
   "id": "756513a9-e7cc-413c-9c05-f7296547815c",
   "metadata": {},
   "outputs": [],
   "source": [
    "num_qubits = [7,3,3]\n",
    "bin2dec = 2**np.arange(6)[::-1]\n",
    "cirq_simulator = cirq.Simulator()\n",
    "p_depol,p_readout = 1e-3,1e-3\n",
    "\n",
    "noise_model,readout_noise = None,None\n",
    "# noise_model = cirq.NoiseModel.from_noise_model_like(cirq.depolarize(p=p_depol))\n",
    "# readout_noise = cirq.BitFlipChannel(p=p_readout)\n",
    "\n",
    "qubits = init_qubits(num_qubits)\n",
    "\n",
    "# order: X1245,X1347,Z4567 then Z\n",
    "stabilizer_gateseqs = [[[7],(7,10),(7,0),(10,1),(7,3),(10,4),(7,10),[7],['m',7],['m',10]],\n",
    "                       [[8],(8,11),(11,2),(8,0),(8,3), (8,6),(8,11),[8],['m',8],['m',11]],\n",
    "                       [[9],(9,12),(9,3),(12,4),(9,6),(12,5),(9,12),[9],['m',9],['m',12]],\n",
    "                       [[10],(10,7),(0,7),(1,10),(3,7),(4,10),(10,7),[10],['m',7],['m',10]],\n",
    "                       [[11],(11,8),(2,11),(0,8),(3,8), (6,8),(11,8),[11],['m',8],['m',11]],\n",
    "                       [[12],(12,9),(3,9),(4,12),(6,9),(5,12),(12,9),[12],['m',9],['m',12]]]\n",
    "\n",
    "labels = ['X1','X2','X3','Z1','Z2','Z3']\n",
    "stabilizer_circuits = {l:create_cirq(qubits,\n",
    "                                     gate_seq,\n",
    "                                     noise_model,\n",
    "                                     readout_noise,\n",
    "                                     [f'synd_{l}',f'flag_{l}']) for gate_seq,l in zip(stabilizer_gateseqs,labels)}\n",
    "\n",
    "    \n",
    "steane_code = ['XXIXXII','XIXXIIX','IIIXXXX','ZZIZZII','ZIZZIIZ','IIIZZZZ']\n",
    "\n",
    "# stab_Z1 = create_cirq(qubits,Z1245,noise_model,readout_noise,['synd_Z1','flag_Z1'])\n",
    "# stab_Z2 = create_cirq(qubits,Z1347,noise_model,readout_noise,['synd_Z2','flag_Z2'])\n",
    "# stab_Z3 = create_cirq(qubits,Z4567,noise_model,readout_noise,['synd_Z3','flag_Z3'])\n",
    "# \n",
    "# stabs = [stab_Z1,stab_Z2,stab_Z3,stab_X1,stab_X2,stab_X3]\n",
    "# qec_code = ['ZZIZZII','ZIZZIIZ','IIIZZZZ','XXIXXII','XIXXIIX','IIIXXXX']\n",
    "lut = lut_decoder(steane_code)\n",
    "# print(stab_X1)\n",
    "# print(stab_X3)"
   ]
  },
  {
   "cell_type": "code",
   "execution_count": 23,
   "id": "db05c243-9d3f-47e2-ad2b-cdfc0c5fd069",
   "metadata": {},
   "outputs": [],
   "source": [
    "circuit = cirq.Circuit()\n",
    "for c in list(stabilizer_circuits.values())[:3]:\n",
    "    circuit += c\n",
    "scircuit = stimcirq.cirq_circuit_to_stim_circuit(circuit)\n",
    "\n",
    "num_rep = int(1e2)"
   ]
  },
  {
   "cell_type": "code",
   "execution_count": 17,
   "id": "bc64b5b1-919d-4c8d-ad68-16dd1af9f428",
   "metadata": {},
   "outputs": [
    {
     "data": {
      "text/plain": [
       "measurements: flag_X1=0 flag_X2=0 flag_X3=0 synd_X1=0 synd_X2=0 synd_X3=0\n",
       "output vector: 0.354|0000000000000⟩ + 0.354|0001111000000⟩ + 0.354|0110101000000⟩ + 0.354|0111010000000⟩ + 0.354|1010110000000⟩ + 0.354|1011001000000⟩ + 0.354|1100011000000⟩ + 0.354|1101100000000⟩"
      ]
     },
     "execution_count": 17,
     "metadata": {},
     "output_type": "execute_result"
    }
   ],
   "source": [
    "cirq_simulator.simulate(circuit)"
   ]
  },
  {
   "cell_type": "code",
   "execution_count": 25,
   "id": "3c08334b-bf43-4120-ab81-22a44943c257",
   "metadata": {},
   "outputs": [
    {
     "name": "stdout",
     "output_type": "stream",
     "text": [
      "230 ms ± 1.42 ms per loop (mean ± std. dev. of 7 runs, 1 loop each)\n"
     ]
    }
   ],
   "source": [
    "%%timeit\n",
    "cirq_simulator.run(circuit,repetitions=num_rep)"
   ]
  },
  {
   "cell_type": "code",
   "execution_count": 26,
   "id": "bb9699fb-340a-4af1-a766-6d5dad0cf386",
   "metadata": {},
   "outputs": [],
   "source": [
    "sampler = scircuit.compile_sampler()"
   ]
  },
  {
   "cell_type": "code",
   "execution_count": 27,
   "id": "669a5d6f-06b8-4d7a-a33e-01486c8113e2",
   "metadata": {},
   "outputs": [
    {
     "name": "stdout",
     "output_type": "stream",
     "text": [
      "24.9 µs ± 67.4 ns per loop (mean ± std. dev. of 7 runs, 10000 loops each)\n"
     ]
    }
   ],
   "source": [
    "%%timeit\n",
    "sampler.sample(shots=num_rep)"
   ]
  },
  {
   "cell_type": "code",
   "execution_count": 5,
   "id": "97b3ffd6-f9fa-4a2b-8049-dd3354069a31",
   "metadata": {},
   "outputs": [
    {
     "data": {
      "image/svg+xml": [
       "<svg xmlns=\"http://www.w3.org/2000/svg\" width=\"2111.3908984375003\" height=\"690.0\"><line x1=\"50.74525390625001\" x2=\"2081.3908984375003\" y1=\"45.0\" y2=\"45.0\" stroke=\"#1967d2\" stroke-width=\"1\" /><line x1=\"50.74525390625001\" x2=\"2081.3908984375003\" y1=\"95.0\" y2=\"95.0\" stroke=\"#1967d2\" stroke-width=\"1\" /><line x1=\"50.74525390625001\" x2=\"2081.3908984375003\" y1=\"145.0\" y2=\"145.0\" stroke=\"#1967d2\" stroke-width=\"1\" /><line x1=\"50.74525390625001\" x2=\"2081.3908984375003\" y1=\"195.0\" y2=\"195.0\" stroke=\"#1967d2\" stroke-width=\"1\" /><line x1=\"50.74525390625001\" x2=\"2081.3908984375003\" y1=\"245.0\" y2=\"245.0\" stroke=\"#1967d2\" stroke-width=\"1\" /><line x1=\"50.74525390625001\" x2=\"2081.3908984375003\" y1=\"295.0\" y2=\"295.0\" stroke=\"#1967d2\" stroke-width=\"1\" /><line x1=\"50.74525390625001\" x2=\"2081.3908984375003\" y1=\"345.0\" y2=\"345.0\" stroke=\"#1967d2\" stroke-width=\"1\" /><line x1=\"50.74525390625001\" x2=\"2081.3908984375003\" y1=\"395.0\" y2=\"395.0\" stroke=\"#1967d2\" stroke-width=\"1\" /><line x1=\"50.74525390625001\" x2=\"2081.3908984375003\" y1=\"445.0\" y2=\"445.0\" stroke=\"#1967d2\" stroke-width=\"1\" /><line x1=\"50.74525390625001\" x2=\"2081.3908984375003\" y1=\"495.0\" y2=\"495.0\" stroke=\"#1967d2\" stroke-width=\"1\" /><line x1=\"50.74525390625001\" x2=\"2081.3908984375003\" y1=\"545.0\" y2=\"545.0\" stroke=\"#1967d2\" stroke-width=\"1\" /><line x1=\"50.74525390625001\" x2=\"2081.3908984375003\" y1=\"595.0\" y2=\"595.0\" stroke=\"#1967d2\" stroke-width=\"1\" /><line x1=\"50.74525390625001\" x2=\"2081.3908984375003\" y1=\"645.0\" y2=\"645.0\" stroke=\"#1967d2\" stroke-width=\"1\" /><line x1=\"1701.4241015625\" x2=\"1791.4241015625\" y1=\"5.0\" y2=\"5.0\" stroke=\"black\" stroke-width=\"1\" /><line x1=\"1701.4241015625\" x2=\"1791.4241015625\" y1=\"685.0\" y2=\"685.0\" stroke=\"black\" stroke-width=\"1\" /><line x1=\"1601.4241015625\" x2=\"1691.4241015625\" y1=\"5.0\" y2=\"5.0\" stroke=\"black\" stroke-width=\"1\" /><line x1=\"1601.4241015625\" x2=\"1691.4241015625\" y1=\"685.0\" y2=\"685.0\" stroke=\"black\" stroke-width=\"1\" /><line x1=\"931.4573046875\" x2=\"1021.4573046875\" y1=\"5.0\" y2=\"5.0\" stroke=\"black\" stroke-width=\"1\" /><line x1=\"931.4573046875\" x2=\"1021.4573046875\" y1=\"685.0\" y2=\"685.0\" stroke=\"black\" stroke-width=\"1\" /><line x1=\"381.4905078125\" x2=\"471.4905078125\" y1=\"5.0\" y2=\"5.0\" stroke=\"black\" stroke-width=\"1\" /><line x1=\"381.4905078125\" x2=\"471.4905078125\" y1=\"685.0\" y2=\"685.0\" stroke=\"black\" stroke-width=\"1\" /><line x1=\"281.4905078125\" x2=\"371.4905078125\" y1=\"5.0\" y2=\"5.0\" stroke=\"black\" stroke-width=\"1\" /><line x1=\"281.4905078125\" x2=\"371.4905078125\" y1=\"685.0\" y2=\"685.0\" stroke=\"black\" stroke-width=\"1\" /><line x1=\"131.49050781250003\" x2=\"131.49050781250003\" y1=\"45.0\" y2=\"645.0\" stroke=\"black\" stroke-width=\"3\" /><line x1=\"251.49050781250003\" x2=\"251.49050781250003\" y1=\"395.0\" y2=\"545.0\" stroke=\"black\" stroke-width=\"3\" /><line x1=\"301.4905078125\" x2=\"301.4905078125\" y1=\"45.0\" y2=\"545.0\" stroke=\"black\" stroke-width=\"3\" /><line x1=\"341.4905078125\" x2=\"341.4905078125\" y1=\"95.0\" y2=\"395.0\" stroke=\"black\" stroke-width=\"3\" /><line x1=\"401.4905078125\" x2=\"401.4905078125\" y1=\"195.0\" y2=\"545.0\" stroke=\"black\" stroke-width=\"3\" /><line x1=\"441.4905078125\" x2=\"441.4905078125\" y1=\"245.0\" y2=\"395.0\" stroke=\"black\" stroke-width=\"3\" /><line x1=\"511.4905078125\" x2=\"511.4905078125\" y1=\"395.0\" y2=\"545.0\" stroke=\"black\" stroke-width=\"3\" /><line x1=\"781.4573046875\" x2=\"781.4573046875\" y1=\"45.0\" y2=\"645.0\" stroke=\"black\" stroke-width=\"3\" /><line x1=\"901.4573046875\" x2=\"901.4573046875\" y1=\"445.0\" y2=\"595.0\" stroke=\"black\" stroke-width=\"3\" /><line x1=\"951.4573046875\" x2=\"951.4573046875\" y1=\"145.0\" y2=\"445.0\" stroke=\"black\" stroke-width=\"3\" /><line x1=\"991.4573046875\" x2=\"991.4573046875\" y1=\"45.0\" y2=\"595.0\" stroke=\"black\" stroke-width=\"3\" /><line x1=\"1061.4573046875\" x2=\"1061.4573046875\" y1=\"195.0\" y2=\"595.0\" stroke=\"black\" stroke-width=\"3\" /><line x1=\"1121.4573046875\" x2=\"1121.4573046875\" y1=\"345.0\" y2=\"595.0\" stroke=\"black\" stroke-width=\"3\" /><line x1=\"1181.4573046875\" x2=\"1181.4573046875\" y1=\"445.0\" y2=\"595.0\" stroke=\"black\" stroke-width=\"3\" /><line x1=\"1451.4241015625\" x2=\"1451.4241015625\" y1=\"45.0\" y2=\"645.0\" stroke=\"black\" stroke-width=\"3\" /><line x1=\"1571.4241015625\" x2=\"1571.4241015625\" y1=\"495.0\" y2=\"645.0\" stroke=\"black\" stroke-width=\"3\" /><line x1=\"1621.4241015625\" x2=\"1621.4241015625\" y1=\"195.0\" y2=\"645.0\" stroke=\"black\" stroke-width=\"3\" /><line x1=\"1661.4241015625\" x2=\"1661.4241015625\" y1=\"245.0\" y2=\"495.0\" stroke=\"black\" stroke-width=\"3\" /><line x1=\"1721.4241015625\" x2=\"1721.4241015625\" y1=\"345.0\" y2=\"645.0\" stroke=\"black\" stroke-width=\"3\" /><line x1=\"1761.4241015625\" x2=\"1761.4241015625\" y1=\"295.0\" y2=\"495.0\" stroke=\"black\" stroke-width=\"3\" /><line x1=\"1831.4241015625\" x2=\"1831.4241015625\" y1=\"495.0\" y2=\"645.0\" stroke=\"black\" stroke-width=\"3\" /><line x1=\"1701.4241015625\" x2=\"1701.4241015625\" y1=\"5.0\" y2=\"15.0\" stroke=\"black\" stroke-width=\"3\" /><line x1=\"1791.4241015625\" x2=\"1791.4241015625\" y1=\"5.0\" y2=\"15.0\" stroke=\"black\" stroke-width=\"3\" /><line x1=\"1701.4241015625\" x2=\"1701.4241015625\" y1=\"675.0\" y2=\"685.0\" stroke=\"black\" stroke-width=\"3\" /><line x1=\"1791.4241015625\" x2=\"1791.4241015625\" y1=\"675.0\" y2=\"685.0\" stroke=\"black\" stroke-width=\"3\" /><line x1=\"1601.4241015625\" x2=\"1601.4241015625\" y1=\"5.0\" y2=\"15.0\" stroke=\"black\" stroke-width=\"3\" /><line x1=\"1691.4241015625\" x2=\"1691.4241015625\" y1=\"5.0\" y2=\"15.0\" stroke=\"black\" stroke-width=\"3\" /><line x1=\"1601.4241015625\" x2=\"1601.4241015625\" y1=\"675.0\" y2=\"685.0\" stroke=\"black\" stroke-width=\"3\" /><line x1=\"1691.4241015625\" x2=\"1691.4241015625\" y1=\"675.0\" y2=\"685.0\" stroke=\"black\" stroke-width=\"3\" /><line x1=\"931.4573046875\" x2=\"931.4573046875\" y1=\"5.0\" y2=\"15.0\" stroke=\"black\" stroke-width=\"3\" /><line x1=\"1021.4573046875\" x2=\"1021.4573046875\" y1=\"5.0\" y2=\"15.0\" stroke=\"black\" stroke-width=\"3\" /><line x1=\"931.4573046875\" x2=\"931.4573046875\" y1=\"675.0\" y2=\"685.0\" stroke=\"black\" stroke-width=\"3\" /><line x1=\"1021.4573046875\" x2=\"1021.4573046875\" y1=\"675.0\" y2=\"685.0\" stroke=\"black\" stroke-width=\"3\" /><line x1=\"381.4905078125\" x2=\"381.4905078125\" y1=\"5.0\" y2=\"15.0\" stroke=\"black\" stroke-width=\"3\" /><line x1=\"471.4905078125\" x2=\"471.4905078125\" y1=\"5.0\" y2=\"15.0\" stroke=\"black\" stroke-width=\"3\" /><line x1=\"381.4905078125\" x2=\"381.4905078125\" y1=\"675.0\" y2=\"685.0\" stroke=\"black\" stroke-width=\"3\" /><line x1=\"471.4905078125\" x2=\"471.4905078125\" y1=\"675.0\" y2=\"685.0\" stroke=\"black\" stroke-width=\"3\" /><line x1=\"281.4905078125\" x2=\"281.4905078125\" y1=\"5.0\" y2=\"15.0\" stroke=\"black\" stroke-width=\"3\" /><line x1=\"371.4905078125\" x2=\"371.4905078125\" y1=\"5.0\" y2=\"15.0\" stroke=\"black\" stroke-width=\"3\" /><line x1=\"281.4905078125\" x2=\"281.4905078125\" y1=\"675.0\" y2=\"685.0\" stroke=\"black\" stroke-width=\"3\" /><line x1=\"371.4905078125\" x2=\"371.4905078125\" y1=\"675.0\" y2=\"685.0\" stroke=\"black\" stroke-width=\"3\" /><rect x=\"10.0\" y=\"25.0\" width=\"81.49050781250001\" height=\"40\" stroke=\"black\" fill=\"white\" stroke-width=\"0\" /><text x=\"50.74525390625001\" y=\"45.0\" dominant-baseline=\"middle\" text-anchor=\"middle\" font-size=\"14px\" font-family=\"Arial\">data0: </text><rect x=\"10.0\" y=\"75.0\" width=\"81.49050781250001\" height=\"40\" stroke=\"black\" fill=\"white\" stroke-width=\"0\" /><text x=\"50.74525390625001\" y=\"95.0\" dominant-baseline=\"middle\" text-anchor=\"middle\" font-size=\"14px\" font-family=\"Arial\">data1: </text><rect x=\"10.0\" y=\"125.0\" width=\"81.49050781250001\" height=\"40\" stroke=\"black\" fill=\"white\" stroke-width=\"0\" /><text x=\"50.74525390625001\" y=\"145.0\" dominant-baseline=\"middle\" text-anchor=\"middle\" font-size=\"14px\" font-family=\"Arial\">data2: </text><rect x=\"10.0\" y=\"175.0\" width=\"81.49050781250001\" height=\"40\" stroke=\"black\" fill=\"white\" stroke-width=\"0\" /><text x=\"50.74525390625001\" y=\"195.0\" dominant-baseline=\"middle\" text-anchor=\"middle\" font-size=\"14px\" font-family=\"Arial\">data3: </text><rect x=\"10.0\" y=\"225.0\" width=\"81.49050781250001\" height=\"40\" stroke=\"black\" fill=\"white\" stroke-width=\"0\" /><text x=\"50.74525390625001\" y=\"245.0\" dominant-baseline=\"middle\" text-anchor=\"middle\" font-size=\"14px\" font-family=\"Arial\">data4: </text><rect x=\"10.0\" y=\"275.0\" width=\"81.49050781250001\" height=\"40\" stroke=\"black\" fill=\"white\" stroke-width=\"0\" /><text x=\"50.74525390625001\" y=\"295.0\" dominant-baseline=\"middle\" text-anchor=\"middle\" font-size=\"14px\" font-family=\"Arial\">data5: </text><rect x=\"10.0\" y=\"325.0\" width=\"81.49050781250001\" height=\"40\" stroke=\"black\" fill=\"white\" stroke-width=\"0\" /><text x=\"50.74525390625001\" y=\"345.0\" dominant-baseline=\"middle\" text-anchor=\"middle\" font-size=\"14px\" font-family=\"Arial\">data6: </text><rect x=\"10.0\" y=\"375.0\" width=\"81.49050781250001\" height=\"40\" stroke=\"black\" fill=\"white\" stroke-width=\"0\" /><text x=\"50.74525390625001\" y=\"395.0\" dominant-baseline=\"middle\" text-anchor=\"middle\" font-size=\"14px\" font-family=\"Arial\">flag0: </text><rect x=\"10.0\" y=\"425.0\" width=\"81.49050781250001\" height=\"40\" stroke=\"black\" fill=\"white\" stroke-width=\"0\" /><text x=\"50.74525390625001\" y=\"445.0\" dominant-baseline=\"middle\" text-anchor=\"middle\" font-size=\"14px\" font-family=\"Arial\">flag1: </text><rect x=\"10.0\" y=\"475.0\" width=\"81.49050781250001\" height=\"40\" stroke=\"black\" fill=\"white\" stroke-width=\"0\" /><text x=\"50.74525390625001\" y=\"495.0\" dominant-baseline=\"middle\" text-anchor=\"middle\" font-size=\"14px\" font-family=\"Arial\">flag2: </text><rect x=\"10.0\" y=\"525.0\" width=\"81.49050781250001\" height=\"40\" stroke=\"black\" fill=\"white\" stroke-width=\"0\" /><text x=\"50.74525390625001\" y=\"545.0\" dominant-baseline=\"middle\" text-anchor=\"middle\" font-size=\"14px\" font-family=\"Arial\">syndrome0: </text><rect x=\"10.0\" y=\"575.0\" width=\"81.49050781250001\" height=\"40\" stroke=\"black\" fill=\"white\" stroke-width=\"0\" /><text x=\"50.74525390625001\" y=\"595.0\" dominant-baseline=\"middle\" text-anchor=\"middle\" font-size=\"14px\" font-family=\"Arial\">syndrome1: </text><rect x=\"10.0\" y=\"625.0\" width=\"81.49050781250001\" height=\"40\" stroke=\"black\" fill=\"white\" stroke-width=\"0\" /><text x=\"50.74525390625001\" y=\"645.0\" dominant-baseline=\"middle\" text-anchor=\"middle\" font-size=\"14px\" font-family=\"Arial\">syndrome2: </text><rect x=\"111.49050781250003\" y=\"25.0\" width=\"40\" height=\"40\" stroke=\"black\" fill=\"white\" stroke-width=\"1\" /><text x=\"131.49050781250003\" y=\"45.0\" dominant-baseline=\"middle\" text-anchor=\"middle\" font-size=\"18px\" font-family=\"Arial\">I</text><rect x=\"111.49050781250003\" y=\"75.0\" width=\"40\" height=\"40\" stroke=\"black\" fill=\"white\" stroke-width=\"1\" /><text x=\"131.49050781250003\" y=\"95.0\" dominant-baseline=\"middle\" text-anchor=\"middle\" font-size=\"18px\" font-family=\"Arial\">I</text><rect x=\"111.49050781250003\" y=\"125.0\" width=\"40\" height=\"40\" stroke=\"black\" fill=\"white\" stroke-width=\"1\" /><text x=\"131.49050781250003\" y=\"145.0\" dominant-baseline=\"middle\" text-anchor=\"middle\" font-size=\"18px\" font-family=\"Arial\">I</text><rect x=\"111.49050781250003\" y=\"175.0\" width=\"40\" height=\"40\" stroke=\"black\" fill=\"white\" stroke-width=\"1\" /><text x=\"131.49050781250003\" y=\"195.0\" dominant-baseline=\"middle\" text-anchor=\"middle\" font-size=\"18px\" font-family=\"Arial\">I</text><rect x=\"111.49050781250003\" y=\"225.0\" width=\"40\" height=\"40\" stroke=\"black\" fill=\"white\" stroke-width=\"1\" /><text x=\"131.49050781250003\" y=\"245.0\" dominant-baseline=\"middle\" text-anchor=\"middle\" font-size=\"18px\" font-family=\"Arial\">I</text><rect x=\"111.49050781250003\" y=\"275.0\" width=\"40\" height=\"40\" stroke=\"black\" fill=\"white\" stroke-width=\"1\" /><text x=\"131.49050781250003\" y=\"295.0\" dominant-baseline=\"middle\" text-anchor=\"middle\" font-size=\"18px\" font-family=\"Arial\">I</text><rect x=\"111.49050781250003\" y=\"325.0\" width=\"40\" height=\"40\" stroke=\"black\" fill=\"white\" stroke-width=\"1\" /><text x=\"131.49050781250003\" y=\"345.0\" dominant-baseline=\"middle\" text-anchor=\"middle\" font-size=\"18px\" font-family=\"Arial\">I</text><rect x=\"111.49050781250003\" y=\"525.0\" width=\"40\" height=\"40\" stroke=\"black\" fill=\"white\" stroke-width=\"1\" /><text x=\"131.49050781250003\" y=\"545.0\" dominant-baseline=\"middle\" text-anchor=\"middle\" font-size=\"18px\" font-family=\"Arial\">I</text><rect x=\"111.49050781250003\" y=\"575.0\" width=\"40\" height=\"40\" stroke=\"black\" fill=\"white\" stroke-width=\"1\" /><text x=\"131.49050781250003\" y=\"595.0\" dominant-baseline=\"middle\" text-anchor=\"middle\" font-size=\"18px\" font-family=\"Arial\">I</text><rect x=\"111.49050781250003\" y=\"625.0\" width=\"40\" height=\"40\" stroke=\"black\" fill=\"white\" stroke-width=\"1\" /><text x=\"131.49050781250003\" y=\"645.0\" dominant-baseline=\"middle\" text-anchor=\"middle\" font-size=\"18px\" font-family=\"Arial\">I</text><rect x=\"111.49050781250003\" y=\"375.0\" width=\"40\" height=\"40\" stroke=\"black\" fill=\"white\" stroke-width=\"1\" /><text x=\"131.49050781250003\" y=\"395.0\" dominant-baseline=\"middle\" text-anchor=\"middle\" font-size=\"18px\" font-family=\"Arial\">I</text><rect x=\"111.49050781250003\" y=\"425.0\" width=\"40\" height=\"40\" stroke=\"black\" fill=\"white\" stroke-width=\"1\" /><text x=\"131.49050781250003\" y=\"445.0\" dominant-baseline=\"middle\" text-anchor=\"middle\" font-size=\"18px\" font-family=\"Arial\">I</text><rect x=\"111.49050781250003\" y=\"475.0\" width=\"40\" height=\"40\" stroke=\"black\" fill=\"white\" stroke-width=\"1\" /><text x=\"131.49050781250003\" y=\"495.0\" dominant-baseline=\"middle\" text-anchor=\"middle\" font-size=\"18px\" font-family=\"Arial\">I</text><rect x=\"171.49050781250003\" y=\"375.0\" width=\"40\" height=\"40\" stroke=\"black\" fill=\"white\" stroke-width=\"1\" /><text x=\"191.49050781250003\" y=\"395.0\" dominant-baseline=\"middle\" text-anchor=\"middle\" font-size=\"18px\" font-family=\"Arial\">H</text><circle cx=\"251.49050781250003\" cy=\"395.0\" r=\"10.0\" /><rect x=\"231.49050781250003\" y=\"525.0\" width=\"40\" height=\"40\" stroke=\"black\" fill=\"white\" stroke-width=\"1\" /><text x=\"251.49050781250003\" y=\"545.0\" dominant-baseline=\"middle\" text-anchor=\"middle\" font-size=\"18px\" font-family=\"Arial\">X</text><circle cx=\"301.4905078125\" cy=\"45.0\" r=\"10.0\" /><rect x=\"281.4905078125\" y=\"525.0\" width=\"40\" height=\"40\" stroke=\"black\" fill=\"white\" stroke-width=\"1\" /><text x=\"301.4905078125\" y=\"545.0\" dominant-baseline=\"middle\" text-anchor=\"middle\" font-size=\"18px\" font-family=\"Arial\">X</text><circle cx=\"341.4905078125\" cy=\"95.0\" r=\"10.0\" /><rect x=\"321.4905078125\" y=\"375.0\" width=\"40\" height=\"40\" stroke=\"black\" fill=\"white\" stroke-width=\"1\" /><text x=\"341.4905078125\" y=\"395.0\" dominant-baseline=\"middle\" text-anchor=\"middle\" font-size=\"18px\" font-family=\"Arial\">X</text><circle cx=\"401.4905078125\" cy=\"195.0\" r=\"10.0\" /><rect x=\"381.4905078125\" y=\"525.0\" width=\"40\" height=\"40\" stroke=\"black\" fill=\"white\" stroke-width=\"1\" /><text x=\"401.4905078125\" y=\"545.0\" dominant-baseline=\"middle\" text-anchor=\"middle\" font-size=\"18px\" font-family=\"Arial\">X</text><circle cx=\"441.4905078125\" cy=\"245.0\" r=\"10.0\" /><rect x=\"421.4905078125\" y=\"375.0\" width=\"40\" height=\"40\" stroke=\"black\" fill=\"white\" stroke-width=\"1\" /><text x=\"441.4905078125\" y=\"395.0\" dominant-baseline=\"middle\" text-anchor=\"middle\" font-size=\"18px\" font-family=\"Arial\">X</text><circle cx=\"511.4905078125\" cy=\"395.0\" r=\"10.0\" /><rect x=\"491.4905078125\" y=\"525.0\" width=\"40\" height=\"40\" stroke=\"black\" fill=\"white\" stroke-width=\"1\" /><text x=\"511.4905078125\" y=\"545.0\" dominant-baseline=\"middle\" text-anchor=\"middle\" font-size=\"18px\" font-family=\"Arial\">X</text><rect x=\"551.4905078125\" y=\"375.0\" width=\"88.48339843750001\" height=\"40\" stroke=\"black\" fill=\"white\" stroke-width=\"1\" /><text x=\"595.73220703125\" y=\"395.0\" dominant-baseline=\"middle\" text-anchor=\"middle\" font-size=\"18px\" font-family=\"Arial\">H</text><rect x=\"551.4905078125\" y=\"525.0\" width=\"88.48339843750001\" height=\"40\" stroke=\"black\" fill=\"white\" stroke-width=\"1\" /><text x=\"595.73220703125\" y=\"545.0\" dominant-baseline=\"middle\" text-anchor=\"middle\" font-size=\"14px\" font-family=\"Arial\">M('synd_Z1')</text><rect x=\"659.97390625\" y=\"375.0\" width=\"81.4833984375\" height=\"40\" stroke=\"black\" fill=\"white\" stroke-width=\"1\" /><text x=\"700.71560546875\" y=\"395.0\" dominant-baseline=\"middle\" text-anchor=\"middle\" font-size=\"14px\" font-family=\"Arial\">M('flag_Z1')</text><rect x=\"761.4573046875\" y=\"25.0\" width=\"40\" height=\"40\" stroke=\"black\" fill=\"white\" stroke-width=\"1\" /><text x=\"781.4573046875\" y=\"45.0\" dominant-baseline=\"middle\" text-anchor=\"middle\" font-size=\"18px\" font-family=\"Arial\">I</text><rect x=\"761.4573046875\" y=\"75.0\" width=\"40\" height=\"40\" stroke=\"black\" fill=\"white\" stroke-width=\"1\" /><text x=\"781.4573046875\" y=\"95.0\" dominant-baseline=\"middle\" text-anchor=\"middle\" font-size=\"18px\" font-family=\"Arial\">I</text><rect x=\"761.4573046875\" y=\"125.0\" width=\"40\" height=\"40\" stroke=\"black\" fill=\"white\" stroke-width=\"1\" /><text x=\"781.4573046875\" y=\"145.0\" dominant-baseline=\"middle\" text-anchor=\"middle\" font-size=\"18px\" font-family=\"Arial\">I</text><rect x=\"761.4573046875\" y=\"175.0\" width=\"40\" height=\"40\" stroke=\"black\" fill=\"white\" stroke-width=\"1\" /><text x=\"781.4573046875\" y=\"195.0\" dominant-baseline=\"middle\" text-anchor=\"middle\" font-size=\"18px\" font-family=\"Arial\">I</text><rect x=\"761.4573046875\" y=\"225.0\" width=\"40\" height=\"40\" stroke=\"black\" fill=\"white\" stroke-width=\"1\" /><text x=\"781.4573046875\" y=\"245.0\" dominant-baseline=\"middle\" text-anchor=\"middle\" font-size=\"18px\" font-family=\"Arial\">I</text><rect x=\"761.4573046875\" y=\"275.0\" width=\"40\" height=\"40\" stroke=\"black\" fill=\"white\" stroke-width=\"1\" /><text x=\"781.4573046875\" y=\"295.0\" dominant-baseline=\"middle\" text-anchor=\"middle\" font-size=\"18px\" font-family=\"Arial\">I</text><rect x=\"761.4573046875\" y=\"325.0\" width=\"40\" height=\"40\" stroke=\"black\" fill=\"white\" stroke-width=\"1\" /><text x=\"781.4573046875\" y=\"345.0\" dominant-baseline=\"middle\" text-anchor=\"middle\" font-size=\"18px\" font-family=\"Arial\">I</text><rect x=\"761.4573046875\" y=\"525.0\" width=\"40\" height=\"40\" stroke=\"black\" fill=\"white\" stroke-width=\"1\" /><text x=\"781.4573046875\" y=\"545.0\" dominant-baseline=\"middle\" text-anchor=\"middle\" font-size=\"18px\" font-family=\"Arial\">I</text><rect x=\"761.4573046875\" y=\"575.0\" width=\"40\" height=\"40\" stroke=\"black\" fill=\"white\" stroke-width=\"1\" /><text x=\"781.4573046875\" y=\"595.0\" dominant-baseline=\"middle\" text-anchor=\"middle\" font-size=\"18px\" font-family=\"Arial\">I</text><rect x=\"761.4573046875\" y=\"625.0\" width=\"40\" height=\"40\" stroke=\"black\" fill=\"white\" stroke-width=\"1\" /><text x=\"781.4573046875\" y=\"645.0\" dominant-baseline=\"middle\" text-anchor=\"middle\" font-size=\"18px\" font-family=\"Arial\">I</text><rect x=\"761.4573046875\" y=\"375.0\" width=\"40\" height=\"40\" stroke=\"black\" fill=\"white\" stroke-width=\"1\" /><text x=\"781.4573046875\" y=\"395.0\" dominant-baseline=\"middle\" text-anchor=\"middle\" font-size=\"18px\" font-family=\"Arial\">I</text><rect x=\"761.4573046875\" y=\"425.0\" width=\"40\" height=\"40\" stroke=\"black\" fill=\"white\" stroke-width=\"1\" /><text x=\"781.4573046875\" y=\"445.0\" dominant-baseline=\"middle\" text-anchor=\"middle\" font-size=\"18px\" font-family=\"Arial\">I</text><rect x=\"761.4573046875\" y=\"475.0\" width=\"40\" height=\"40\" stroke=\"black\" fill=\"white\" stroke-width=\"1\" /><text x=\"781.4573046875\" y=\"495.0\" dominant-baseline=\"middle\" text-anchor=\"middle\" font-size=\"18px\" font-family=\"Arial\">I</text><rect x=\"821.4573046875\" y=\"425.0\" width=\"40\" height=\"40\" stroke=\"black\" fill=\"white\" stroke-width=\"1\" /><text x=\"841.4573046875\" y=\"445.0\" dominant-baseline=\"middle\" text-anchor=\"middle\" font-size=\"18px\" font-family=\"Arial\">H</text><circle cx=\"901.4573046875\" cy=\"445.0\" r=\"10.0\" /><rect x=\"881.4573046875\" y=\"575.0\" width=\"40\" height=\"40\" stroke=\"black\" fill=\"white\" stroke-width=\"1\" /><text x=\"901.4573046875\" y=\"595.0\" dominant-baseline=\"middle\" text-anchor=\"middle\" font-size=\"18px\" font-family=\"Arial\">X</text><circle cx=\"951.4573046875\" cy=\"145.0\" r=\"10.0\" /><rect x=\"931.4573046875\" y=\"425.0\" width=\"40\" height=\"40\" stroke=\"black\" fill=\"white\" stroke-width=\"1\" /><text x=\"951.4573046875\" y=\"445.0\" dominant-baseline=\"middle\" text-anchor=\"middle\" font-size=\"18px\" font-family=\"Arial\">X</text><circle cx=\"991.4573046875\" cy=\"45.0\" r=\"10.0\" /><rect x=\"971.4573046875\" y=\"575.0\" width=\"40\" height=\"40\" stroke=\"black\" fill=\"white\" stroke-width=\"1\" /><text x=\"991.4573046875\" y=\"595.0\" dominant-baseline=\"middle\" text-anchor=\"middle\" font-size=\"18px\" font-family=\"Arial\">X</text><circle cx=\"1061.4573046875\" cy=\"195.0\" r=\"10.0\" /><rect x=\"1041.4573046875\" y=\"575.0\" width=\"40\" height=\"40\" stroke=\"black\" fill=\"white\" stroke-width=\"1\" /><text x=\"1061.4573046875\" y=\"595.0\" dominant-baseline=\"middle\" text-anchor=\"middle\" font-size=\"18px\" font-family=\"Arial\">X</text><circle cx=\"1121.4573046875\" cy=\"345.0\" r=\"10.0\" /><rect x=\"1101.4573046875\" y=\"575.0\" width=\"40\" height=\"40\" stroke=\"black\" fill=\"white\" stroke-width=\"1\" /><text x=\"1121.4573046875\" y=\"595.0\" dominant-baseline=\"middle\" text-anchor=\"middle\" font-size=\"18px\" font-family=\"Arial\">X</text><circle cx=\"1181.4573046875\" cy=\"445.0\" r=\"10.0\" /><rect x=\"1161.4573046875\" y=\"575.0\" width=\"40\" height=\"40\" stroke=\"black\" fill=\"white\" stroke-width=\"1\" /><text x=\"1181.4573046875\" y=\"595.0\" dominant-baseline=\"middle\" text-anchor=\"middle\" font-size=\"18px\" font-family=\"Arial\">X</text><rect x=\"1221.4573046875\" y=\"425.0\" width=\"88.48339843750001\" height=\"40\" stroke=\"black\" fill=\"white\" stroke-width=\"1\" /><text x=\"1265.69900390625\" y=\"445.0\" dominant-baseline=\"middle\" text-anchor=\"middle\" font-size=\"18px\" font-family=\"Arial\">H</text><rect x=\"1221.4573046875\" y=\"575.0\" width=\"88.48339843750001\" height=\"40\" stroke=\"black\" fill=\"white\" stroke-width=\"1\" /><text x=\"1265.69900390625\" y=\"595.0\" dominant-baseline=\"middle\" text-anchor=\"middle\" font-size=\"14px\" font-family=\"Arial\">M('synd_Z2')</text><rect x=\"1329.940703125\" y=\"425.0\" width=\"81.4833984375\" height=\"40\" stroke=\"black\" fill=\"white\" stroke-width=\"1\" /><text x=\"1370.68240234375\" y=\"445.0\" dominant-baseline=\"middle\" text-anchor=\"middle\" font-size=\"14px\" font-family=\"Arial\">M('flag_Z2')</text><rect x=\"1431.4241015625\" y=\"25.0\" width=\"40\" height=\"40\" stroke=\"black\" fill=\"white\" stroke-width=\"1\" /><text x=\"1451.4241015625\" y=\"45.0\" dominant-baseline=\"middle\" text-anchor=\"middle\" font-size=\"18px\" font-family=\"Arial\">I</text><rect x=\"1431.4241015625\" y=\"75.0\" width=\"40\" height=\"40\" stroke=\"black\" fill=\"white\" stroke-width=\"1\" /><text x=\"1451.4241015625\" y=\"95.0\" dominant-baseline=\"middle\" text-anchor=\"middle\" font-size=\"18px\" font-family=\"Arial\">I</text><rect x=\"1431.4241015625\" y=\"125.0\" width=\"40\" height=\"40\" stroke=\"black\" fill=\"white\" stroke-width=\"1\" /><text x=\"1451.4241015625\" y=\"145.0\" dominant-baseline=\"middle\" text-anchor=\"middle\" font-size=\"18px\" font-family=\"Arial\">I</text><rect x=\"1431.4241015625\" y=\"175.0\" width=\"40\" height=\"40\" stroke=\"black\" fill=\"white\" stroke-width=\"1\" /><text x=\"1451.4241015625\" y=\"195.0\" dominant-baseline=\"middle\" text-anchor=\"middle\" font-size=\"18px\" font-family=\"Arial\">I</text><rect x=\"1431.4241015625\" y=\"225.0\" width=\"40\" height=\"40\" stroke=\"black\" fill=\"white\" stroke-width=\"1\" /><text x=\"1451.4241015625\" y=\"245.0\" dominant-baseline=\"middle\" text-anchor=\"middle\" font-size=\"18px\" font-family=\"Arial\">I</text><rect x=\"1431.4241015625\" y=\"275.0\" width=\"40\" height=\"40\" stroke=\"black\" fill=\"white\" stroke-width=\"1\" /><text x=\"1451.4241015625\" y=\"295.0\" dominant-baseline=\"middle\" text-anchor=\"middle\" font-size=\"18px\" font-family=\"Arial\">I</text><rect x=\"1431.4241015625\" y=\"325.0\" width=\"40\" height=\"40\" stroke=\"black\" fill=\"white\" stroke-width=\"1\" /><text x=\"1451.4241015625\" y=\"345.0\" dominant-baseline=\"middle\" text-anchor=\"middle\" font-size=\"18px\" font-family=\"Arial\">I</text><rect x=\"1431.4241015625\" y=\"525.0\" width=\"40\" height=\"40\" stroke=\"black\" fill=\"white\" stroke-width=\"1\" /><text x=\"1451.4241015625\" y=\"545.0\" dominant-baseline=\"middle\" text-anchor=\"middle\" font-size=\"18px\" font-family=\"Arial\">I</text><rect x=\"1431.4241015625\" y=\"575.0\" width=\"40\" height=\"40\" stroke=\"black\" fill=\"white\" stroke-width=\"1\" /><text x=\"1451.4241015625\" y=\"595.0\" dominant-baseline=\"middle\" text-anchor=\"middle\" font-size=\"18px\" font-family=\"Arial\">I</text><rect x=\"1431.4241015625\" y=\"625.0\" width=\"40\" height=\"40\" stroke=\"black\" fill=\"white\" stroke-width=\"1\" /><text x=\"1451.4241015625\" y=\"645.0\" dominant-baseline=\"middle\" text-anchor=\"middle\" font-size=\"18px\" font-family=\"Arial\">I</text><rect x=\"1431.4241015625\" y=\"375.0\" width=\"40\" height=\"40\" stroke=\"black\" fill=\"white\" stroke-width=\"1\" /><text x=\"1451.4241015625\" y=\"395.0\" dominant-baseline=\"middle\" text-anchor=\"middle\" font-size=\"18px\" font-family=\"Arial\">I</text><rect x=\"1431.4241015625\" y=\"425.0\" width=\"40\" height=\"40\" stroke=\"black\" fill=\"white\" stroke-width=\"1\" /><text x=\"1451.4241015625\" y=\"445.0\" dominant-baseline=\"middle\" text-anchor=\"middle\" font-size=\"18px\" font-family=\"Arial\">I</text><rect x=\"1431.4241015625\" y=\"475.0\" width=\"40\" height=\"40\" stroke=\"black\" fill=\"white\" stroke-width=\"1\" /><text x=\"1451.4241015625\" y=\"495.0\" dominant-baseline=\"middle\" text-anchor=\"middle\" font-size=\"18px\" font-family=\"Arial\">I</text><rect x=\"1491.4241015625\" y=\"475.0\" width=\"40\" height=\"40\" stroke=\"black\" fill=\"white\" stroke-width=\"1\" /><text x=\"1511.4241015625\" y=\"495.0\" dominant-baseline=\"middle\" text-anchor=\"middle\" font-size=\"18px\" font-family=\"Arial\">H</text><circle cx=\"1571.4241015625\" cy=\"495.0\" r=\"10.0\" /><rect x=\"1551.4241015625\" y=\"625.0\" width=\"40\" height=\"40\" stroke=\"black\" fill=\"white\" stroke-width=\"1\" /><text x=\"1571.4241015625\" y=\"645.0\" dominant-baseline=\"middle\" text-anchor=\"middle\" font-size=\"18px\" font-family=\"Arial\">X</text><circle cx=\"1621.4241015625\" cy=\"195.0\" r=\"10.0\" /><rect x=\"1601.4241015625\" y=\"625.0\" width=\"40\" height=\"40\" stroke=\"black\" fill=\"white\" stroke-width=\"1\" /><text x=\"1621.4241015625\" y=\"645.0\" dominant-baseline=\"middle\" text-anchor=\"middle\" font-size=\"18px\" font-family=\"Arial\">X</text><circle cx=\"1661.4241015625\" cy=\"245.0\" r=\"10.0\" /><rect x=\"1641.4241015625\" y=\"475.0\" width=\"40\" height=\"40\" stroke=\"black\" fill=\"white\" stroke-width=\"1\" /><text x=\"1661.4241015625\" y=\"495.0\" dominant-baseline=\"middle\" text-anchor=\"middle\" font-size=\"18px\" font-family=\"Arial\">X</text><circle cx=\"1721.4241015625\" cy=\"345.0\" r=\"10.0\" /><rect x=\"1701.4241015625\" y=\"625.0\" width=\"40\" height=\"40\" stroke=\"black\" fill=\"white\" stroke-width=\"1\" /><text x=\"1721.4241015625\" y=\"645.0\" dominant-baseline=\"middle\" text-anchor=\"middle\" font-size=\"18px\" font-family=\"Arial\">X</text><circle cx=\"1761.4241015625\" cy=\"295.0\" r=\"10.0\" /><rect x=\"1741.4241015625\" y=\"475.0\" width=\"40\" height=\"40\" stroke=\"black\" fill=\"white\" stroke-width=\"1\" /><text x=\"1761.4241015625\" y=\"495.0\" dominant-baseline=\"middle\" text-anchor=\"middle\" font-size=\"18px\" font-family=\"Arial\">X</text><circle cx=\"1831.4241015625\" cy=\"495.0\" r=\"10.0\" /><rect x=\"1811.4241015625\" y=\"625.0\" width=\"40\" height=\"40\" stroke=\"black\" fill=\"white\" stroke-width=\"1\" /><text x=\"1831.4241015625\" y=\"645.0\" dominant-baseline=\"middle\" text-anchor=\"middle\" font-size=\"18px\" font-family=\"Arial\">X</text><rect x=\"1871.4241015625\" y=\"475.0\" width=\"88.48339843750001\" height=\"40\" stroke=\"black\" fill=\"white\" stroke-width=\"1\" /><text x=\"1915.66580078125\" y=\"495.0\" dominant-baseline=\"middle\" text-anchor=\"middle\" font-size=\"18px\" font-family=\"Arial\">H</text><rect x=\"1871.4241015625\" y=\"625.0\" width=\"88.48339843750001\" height=\"40\" stroke=\"black\" fill=\"white\" stroke-width=\"1\" /><text x=\"1915.66580078125\" y=\"645.0\" dominant-baseline=\"middle\" text-anchor=\"middle\" font-size=\"14px\" font-family=\"Arial\">M('synd_Z3')</text><rect x=\"1979.9075\" y=\"475.0\" width=\"81.4833984375\" height=\"40\" stroke=\"black\" fill=\"white\" stroke-width=\"1\" /><text x=\"2020.64919921875\" y=\"495.0\" dominant-baseline=\"middle\" text-anchor=\"middle\" font-size=\"14px\" font-family=\"Arial\">M('flag_Z3')</text></svg>"
      ],
      "text/plain": [
       "<cirq.contrib.svg.svg.SVGCircuit at 0x7fae4c8de640>"
      ]
     },
     "execution_count": 5,
     "metadata": {},
     "output_type": "execute_result"
    }
   ],
   "source": [
    "SVGCircuit(circuit)"
   ]
  },
  {
   "cell_type": "code",
   "execution_count": null,
   "id": "b61df25a-ccc7-4ebf-bbce-13bf54de2237",
   "metadata": {},
   "outputs": [],
   "source": []
  }
 ],
 "metadata": {
  "kernelspec": {
   "display_name": "qcircuit64",
   "language": "python",
   "name": "qcircuit64"
  },
  "language_info": {
   "codemirror_mode": {
    "name": "ipython",
    "version": 3
   },
   "file_extension": ".py",
   "mimetype": "text/x-python",
   "name": "python",
   "nbconvert_exporter": "python",
   "pygments_lexer": "ipython3",
   "version": "3.9.0"
  }
 },
 "nbformat": 4,
 "nbformat_minor": 5
}

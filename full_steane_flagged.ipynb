{
 "cells": [
  {
   "cell_type": "code",
   "execution_count": 1,
   "id": "776a5e78-2c97-4526-8807-faca3b1484ab",
   "metadata": {},
   "outputs": [],
   "source": [
    "import cirq\n",
    "import qsimcirq\n",
    "import numpy as np\n",
    "import matplotlib.pyplot as plt\n",
    "from qsim_utils import *\n",
    "from stabilizer_sim import *"
   ]
  },
  {
   "cell_type": "markdown",
   "id": "0e82314f-8e73-4df1-9d89-1850d22b3eb1",
   "metadata": {},
   "source": [
    "# Steane-c1-L1"
   ]
  },
  {
   "cell_type": "markdown",
   "id": "16ac3875-22f7-431e-8551-0b134e14cf1a",
   "metadata": {},
   "source": [
    "## Encoding"
   ]
  },
  {
   "cell_type": "code",
   "execution_count": 3,
   "id": "b364471d-fa41-43b9-9e5c-451c345efcd1",
   "metadata": {},
   "outputs": [
    {
     "name": "stdout",
     "output_type": "stream",
     "text": [
      "                      ┌──┐   ┌──┐\n",
      "data0: ────────────────X──────────────────────────────────────────────\n",
      "                       │\n",
      "data1: ────────────────┼X─────────────────────────────────────────────\n",
      "                       ││\n",
      "data3: ────────────────┼┼─────X───────────────────────────────────────\n",
      "                       ││     │\n",
      "data4: ────────────────┼┼─────┼X──────────────────────────────────────\n",
      "                       ││     ││\n",
      "flag0: ───────────X────┼@─────┼@────X───M('flag_X1')──────────────────\n",
      "                  │    │      │     │\n",
      "syndrome0: ───H───@────@──────@─────@───H──────────────M('synd_X1')───\n",
      "                      └──┘   └──┘\n",
      "                      ┌──┐   ┌──┐\n",
      "data3: ────────────────X──────────────────────────────────────────────\n",
      "                       │\n",
      "data4: ────────────────┼X─────────────────────────────────────────────\n",
      "                       ││\n",
      "data5: ────────────────┼┼──────X──────────────────────────────────────\n",
      "                       ││      │\n",
      "data6: ────────────────┼┼─────X┼──────────────────────────────────────\n",
      "                       ││     ││\n",
      "flag2: ───────────X────┼@─────┼@────X───M('flag_X3')──────────────────\n",
      "                  │    │      │     │\n",
      "syndrome2: ───H───@────@──────@─────@───H──────────────M('synd_X3')───\n",
      "                      └──┘   └──┘\n"
     ]
    }
   ],
   "source": [
    "num_qubits = [7,3,3]\n",
    "noise_model,readout_noise = None,None\n",
    "\n",
    "gate_seq_X1245 = [[7],(7,10),(7,0),(10,1),(7,3),(10,4),(7,10),[7],['m',7],['m',10]]\n",
    "gate_seq_X1347 = [[8],(8,11),(8,0),(8,3), (8,6),(11,2),(8,11),[8],['m',8],['m',11]]\n",
    "gate_seq_X4567 = [[9],(9,12),(9,3),(12,4),(9,6),(12,5),(9,12),[9],['m',9],['m',12]]\n",
    "stab_X1,qubits = create_cirq(num_qubits,gate_seq_X1245,noise_model,readout_noise,['synd_X1','flag_X1'])\n",
    "stab_X2,qubits = create_cirq(num_qubits,gate_seq_X1347,noise_model,readout_noise,['synd_X2','flag_X2'])\n",
    "stab_X3,qubits = create_cirq(num_qubits,gate_seq_X4567,noise_model,readout_noise,['synd_X3','flag_X3'])\n",
    "\n",
    "gate_seq_Z1245 = [[10],(10,7),(0,7),(1,10),(3,7),(4,10),(10,7),[10],['m',7],['m',10]]\n",
    "gate_seq_Z1347 = [[11],(11,8),(0,8),(3,8), (6,8),(2,11),(11,8),[11],['m',8],['m',11]]\n",
    "gate_seq_Z4567 = [[12],(12,9),(3,9),(4,12),(6,9),(5,12),(12,9),[12],['m',9],['m',12]]\n",
    "stab_Z1,qubits = create_cirq(num_qubits,gate_seq_Z1245,noise_model,readout_noise,['synd_Z1','flag_Z1'])\n",
    "stab_Z2,qubits = create_cirq(num_qubits,gate_seq_Z1347,noise_model,readout_noise,['synd_Z2','flag_Z2'])\n",
    "stab_Z3,qubits = create_cirq(num_qubits,gate_seq_Z4567,noise_model,readout_noise,['synd_Z3','flag_Z3'])\n",
    "\n",
    "stabs = [stab_X1,stab_X2,stab_X3,stab_Z1,stab_Z2,stab_Z3]\n",
    "print(stab_X1)\n",
    "print(stab_X3)"
   ]
  },
  {
   "cell_type": "code",
   "execution_count": 4,
   "id": "7ba84ace-3dee-400b-b52f-912287e97baa",
   "metadata": {},
   "outputs": [
    {
     "name": "stdout",
     "output_type": "stream",
     "text": [
      "                  ┌──┐   ┌──┐\n",
      "data0: ────────────X────────────X───@─────────────────────────\n",
      "                   │            │   │\n",
      "data1: ───────H────@───────@────┼───┼─────────────────────────\n",
      "                           │    │   │\n",
      "data2: ───────H────@──────@┼────@───┼─────────────────────────\n",
      "                   │      ││        │\n",
      "data3: ────────────┼──────X┼────X───┼─────────────────────────\n",
      "                   │       │    │   │\n",
      "data4: ────────────┼X──────X────@───┼───@─────────────────────\n",
      "                   ││               │   │\n",
      "data5: ───────H────┼@─────@─────────┼───┼─────────────────────\n",
      "                   │      │         │   │\n",
      "data6: ────────────X──────X─────────┼───┼───@─────────────────\n",
      "                                    │   │   │\n",
      "syndrome0: ─────────────────────────X───X───X───M('encode')───\n",
      "                  └──┘   └──┘\n"
     ]
    }
   ],
   "source": [
    "# trapped ion encoding circuit\n",
    "# gate_seq_encode = [[1],[2],[5],[1,0],[2,6],[5,4],[2,3],[5,6],[1,4],[2,0],[4,3],['m',7,8,9,10,11,12]] #, [0,7],[4,7],[6,7],['m',7]]\n",
    "gate_seq_encode = [[1],[2],[5],[1,0],[2,6],[5,4],[2,3],[5,6],[1,4],[2,0],[4,3],[0,7],[4,7],[6,7],['m',7]]\n",
    "encode,qubits = create_cirq(num_qubits,gate_seq_encode,noise_model,readout_noise,['encode'])\n",
    "print(encode)"
   ]
  },
  {
   "cell_type": "code",
   "execution_count": 22,
   "id": "699ffb07-4a22-46f3-9473-5f8f6fa64488",
   "metadata": {},
   "outputs": [],
   "source": [
    "qsim_simulator = qsimcirq.QSimSimulator()\n",
    "num_rep = 1e4"
   ]
  },
  {
   "cell_type": "code",
   "execution_count": 29,
   "id": "05e2fba1-21d0-4faf-96a0-f2f7711f4f0b",
   "metadata": {},
   "outputs": [
    {
     "name": "stdout",
     "output_type": "stream",
     "text": [
      "Logical 0 state:\t 0.35|00000000⟩ + 0.35|00011110⟩ + 0.35|01101010⟩ + 0.35|01110100⟩ + 0.35|10101100⟩ + 0.35|10110010⟩ + 0.35|11000110⟩ + 0.35|11011000⟩\n"
     ]
    }
   ],
   "source": [
    "results = qsim_simulator.simulate(encode)\n",
    "print('Logical 0 state:\\t',results.dirac_notation())\n",
    "logical0 = results.state_vector()"
   ]
  },
  {
   "cell_type": "code",
   "execution_count": 49,
   "id": "7b4cf13c-8a36-4ba2-a029-f845a42a78be",
   "metadata": {},
   "outputs": [
    {
     "name": "stdout",
     "output_type": "stream",
     "text": [
      "Logical 0 state:\t 0.35|0000000000000⟩ + 0.35|0001111000000⟩ + 0.35|0110101000000⟩ + 0.35|0111010000000⟩ + 0.35|1010110000000⟩ + 0.35|1011001000000⟩ + 0.35|1100011000000⟩ + 0.35|1101100000000⟩\n"
     ]
    }
   ],
   "source": [
    "circuit = cirq.Circuit() #encode.copy()\n",
    "for stab in stabs[:3]:\n",
    "    circuit += stab\n",
    "results = qsim_simulator.simulate(circuit)\n",
    "print('Logical 0 state:\\t',results.dirac_notation())\n",
    "# abs(results.state_vector()-logical0).max()"
   ]
  },
  {
   "cell_type": "markdown",
   "id": "f98d1d74-384d-4557-8bd8-6ef1498800f4",
   "metadata": {},
   "source": [
    "## QSP fidelity"
   ]
  },
  {
   "cell_type": "code",
   "execution_count": 22,
   "id": "b6f84251-5024-467a-a051-8c63c831b95e",
   "metadata": {},
   "outputs": [],
   "source": [
    "import cirq\n",
    "import qsimcirq\n",
    "import numpy as np\n",
    "import matplotlib.pyplot as plt\n",
    "from qsim_utils import *\n",
    "from stabilizer_sim import *\n",
    "\n",
    "def signed_probs(mmts_full,locs):\n",
    "    '''\n",
    "    For calculating expectation values of strings of the same pauli\n",
    "    Eg: <ZZ> = P00 - P01 - P10 + P11\n",
    "    '''\n",
    "    outcomes = np.array(list(itertools.product([0,1],repeat=len(locs))))\n",
    "    mmts = mmts_full[:,locs]\n",
    "    signs = (-1)**(outcomes.sum(1)%2) #minus for odd number of 1s\n",
    "    probs = []\n",
    "    for outcome in outcomes:\n",
    "        probs.append((mmts==outcome).prod(1).sum()/mmts.shape[0])\n",
    "    res = (signs*probs).sum()\n",
    "    # return 1 if np.isnan(res) else res\n",
    "    # return 0 if np.isnan(res) else res\n",
    "    return res\n",
    "\n",
    "def QND_fidelity_measures(num_qubits,in_circuit,circuit,noise_model,readout_noise,num_rep=1024,seed=0,print_circ=False):\n",
    "    # Direct measurement in X basis\n",
    "    hadamards = [[i] for i in range(num_qubits[0])]\n",
    "    mmts = ['m']+list(range(num_qubits[0]))\n",
    "    in_circuit_measureX = create_cirq(num_qubits,[*hadamards,mmts],noise_model,readout_noise,['in_X_on_data'])[0]\n",
    "    circuit_measureX = create_cirq(num_qubits,[*hadamards,mmts],noise_model,readout_noise,['X_on_data'])[0]\n",
    "    full_circuit = in_circuit + in_circuit_measureX +\\\n",
    "                    in_circuit + circuit + circuit_measureX\n",
    "    if print_circ: print(full_circuit)\n",
    "    qsim_simulator = qsimcirq.QSimSimulator(seed=seed)\n",
    "    results = qsim_simulator.run(full_circuit, repetitions=num_rep)\n",
    "\n",
    "    flags = np.hstack([results.measurements['flag_X1'],\n",
    "                   results.measurements['flag_X2'],\n",
    "                   results.measurements['flag_X3']])\n",
    "    if flags.shape[1] > 1:\n",
    "        flags = flags.sum(1).astype(bool).astype(int) # combine the triggered flags\n",
    "    unflagged_loc = (flags.flatten()==0)\n",
    "\n",
    "    synds = np.hstack([results.measurements['synd_X1'],\n",
    "                       results.measurements['synd_X2'],\n",
    "                       results.measurements['synd_X3']])\n",
    "    eigstate_locs = []\n",
    "    outcomes = np.array(list(itertools.product(range(2),repeat=3)))\n",
    "    for outcome in outcomes:\n",
    "        eigstate_locs.append((synds == np.array(outcome)).all(1))\n",
    "\n",
    "    measureX_in = results.measurements['in_X_on_data']\n",
    "    measureX_out = results.measurements['X_on_data'][unflagged_loc]\n",
    "    measureX_out_eigstate = []\n",
    "    pancilla_unflagged = []\n",
    "    for loc in eigstate_locs:\n",
    "        measureX_out_eigstate.append(results.measurements['X_on_data'][unflagged_loc*loc])\n",
    "        pancilla_unflagged.append((unflagged_loc*loc).sum() / unflagged_loc.sum())\n",
    "    pancilla_unflagged = np.array(pancilla_unflagged)\n",
    "\n",
    "    flagged = (1-unflagged_loc.sum()/len(unflagged_loc))\n",
    "    print(f'\\nFlagged percentage:\\t {flagged*100:.2f} %')\n",
    "\n",
    "    # QSP fidelity\n",
    "    # Hard-coding signs and which qubits to evaluate ev\n",
    "    stab_signs = (-1)**outcomes\n",
    "    signs = np.zeros([8,7])\n",
    "    for i in range(8):\n",
    "        signs[i,:3] = stab_signs[i]\n",
    "        signs[i,3] = stab_signs[i,0]*stab_signs[i,1]\n",
    "        signs[i,4] = stab_signs[i,0]*stab_signs[i,2]\n",
    "        signs[i,5] = stab_signs[i,1]*stab_signs[i,2]\n",
    "        signs[i,6] = stab_signs[i,0]*stab_signs[i,1]*stab_signs[i,2]\n",
    "\n",
    "    locs = [[0,1,3,4],[0,2,3,6],[3,4,5,6],[1,2,4,6],[0,1,5,6],[0,2,4,5],[1,2,3,5]]\n",
    "    pouts = []\n",
    "    for i in range(8):\n",
    "        pout = 1\n",
    "        for j,loc in enumerate(locs):\n",
    "            pout += signs[i,j]*signed_probs(measureX_out_eigstate[i],loc).sum()\n",
    "        pouts.append(0.125*pout)\n",
    "    pouts = np.array(pouts)\n",
    "\n",
    "    f_qsp = (pancilla_unflagged*pouts).sum()\n",
    "    print(f'QSP fidelity:\\t\\t {f_qsp}')\n",
    "\n",
    "\n",
    "    # print(pancilla_p0,pancilla_m0,pout_p,pout_m)\n",
    "\n",
    "    return flagged,f_qsp"
   ]
  },
  {
   "cell_type": "code",
   "execution_count": 2,
   "id": "e60fbe2f-70ca-4ef5-bf8e-e1a6e8ac4f12",
   "metadata": {},
   "outputs": [
    {
     "name": "stdout",
     "output_type": "stream",
     "text": [
      "Initial state: 0000000\n",
      "---Ideal encoding circuit to be characterized---\n",
      "                      ┌──┐   ┌──┐                                             ┌──┐                                                     ┌──┐   ┌──┐\n",
      "data0: ────────────────X───────────────────────────────────────────────────────X───────────────────────────────────────────────────────────────────────────────────────────────────────\n",
      "                       │                                                       │\n",
      "data1: ────────────────┼X──────────────────────────────────────────────────────┼───────────────────────────────────────────────────────────────────────────────────────────────────────\n",
      "                       ││                                                      │\n",
      "data2: ────────────────┼┼──────────────────────────────────────────────────────┼X──────────────────────────────────────────────────────────────────────────────────────────────────────\n",
      "                       ││                                                      ││\n",
      "data3: ────────────────┼┼─────X────────────────────────────────────────────────┼┼────X──────────────────────────────────────────────────X──────────────────────────────────────────────\n",
      "                       ││     │                                                ││    │                                                  │\n",
      "data4: ────────────────┼┼─────┼X───────────────────────────────────────────────┼┼────┼──────────────────────────────────────────────────┼X─────────────────────────────────────────────\n",
      "                       ││     ││                                               ││    │                                                  ││\n",
      "data5: ────────────────┼┼─────┼┼───────────────────────────────────────────────┼┼────┼──────────────────────────────────────────────────┼┼──────X──────────────────────────────────────\n",
      "                       ││     ││                                               ││    │                                                  ││      │\n",
      "data6: ────────────────┼┼─────┼┼───────────────────────────────────────────────┼┼────┼───X──────────────────────────────────────────────┼┼─────X┼──────────────────────────────────────\n",
      "                       ││     ││                                               ││    │   │                                              ││     ││\n",
      "flag0: ───────────X────┼@─────┼@────X───M('flag_X1')───────────────────────────┼┼────┼───┼──────────────────────────────────────────────┼┼─────┼┼──────────────────────────────────────\n",
      "                  │    │      │     │                                          ││    │   │                                              ││     ││\n",
      "flag1: ───────────┼────┼──────┼─────┼─────────────────────────────────────X────┼@────┼───┼───X───M('flag_X2')───────────────────────────┼┼─────┼┼──────────────────────────────────────\n",
      "                  │    │      │     │                                     │    │     │   │   │                                          ││     ││\n",
      "flag2: ───────────┼────┼──────┼─────┼─────────────────────────────────────┼────┼─────┼───┼───┼─────────────────────────────────────X────┼@─────┼@────X───M('flag_X3')──────────────────\n",
      "                  │    │      │     │                                     │    │     │   │   │                                     │    │      │     │\n",
      "syndrome0: ───H───@────@──────@─────@───H──────────────M('synd_X1')───────┼────┼─────┼───┼───┼─────────────────────────────────────┼────┼──────┼─────┼─────────────────────────────────\n",
      "                                                                          │    │     │   │   │                                     │    │      │     │\n",
      "syndrome1: ───────────────────────────────────────────────────────────H───@────@─────@───@───@───H──────────────M('synd_X2')───────┼────┼──────┼─────┼─────────────────────────────────\n",
      "                                                                                                                                   │    │      │     │\n",
      "syndrome2: ────────────────────────────────────────────────────────────────────────────────────────────────────────────────────H───@────@──────@─────@───H──────────────M('synd_X3')───\n",
      "                      └──┘   └──┘                                             └──┘                                                     └──┘   └──┘\n",
      "\n",
      "Flagged percentage:\t 0.00 %\n",
      "QSP fidelity:\t\t 1.0\n"
     ]
    },
    {
     "data": {
      "text/plain": [
       "(0.0, 1.0)"
      ]
     },
     "execution_count": 2,
     "metadata": {},
     "output_type": "execute_result"
    }
   ],
   "source": [
    "num_qubits = [7,3,3]\n",
    "num_rep = int(1e4)\n",
    "init_state = np.array([0,0,0,0,0,0,0]) #np.random.randint(2,size=7)\n",
    "print(f'Initial state: {\"\".join(init_state.astype(str))}')\n",
    "\n",
    "print('---Ideal encoding circuit to be characterized---')\n",
    "gate_seq_X1245 = [[7],(7,10),(7,0),(10,1),(7,3),(10,4),(7,10),[7],['m',7],['m',10]]\n",
    "gate_seq_X1347 = [[8],(8,11),(8,0),(8,3), (8,6),(11,2),(8,11),[8],['m',8],['m',11]]\n",
    "gate_seq_X4567 = [[9],(9,12),(9,3),(12,4),(9,6),(12,5),(9,12),[9],['m',9],['m',12]]\n",
    "gate_seqs = [gate_seq_X1245,gate_seq_X1347,gate_seq_X4567]\n",
    "\n",
    "circuit = cirq.Circuit()\n",
    "for i,gate_seq in enumerate(gate_seqs):\n",
    "    c,qubits = create_cirq(num_qubits,gate_seq,None,None,[f'synd_X{i+1}',f'flag_X{i+1}'])\n",
    "    circuit += c\n",
    "print(circuit)\n",
    "    \n",
    "in_circuit = cirq.Circuit(\n",
    "    cirq.reset_each(*qubits),\n",
    "    cirq.X.on_each(np.array(qubits[:num_qubits[0]])[init_state==1])\n",
    ")\n",
    "\n",
    "QND_fidelity_measures(num_qubits,in_circuit,circuit,None,None,num_rep,None,False)"
   ]
  },
  {
   "cell_type": "markdown",
   "id": "4c107ace-f1df-4263-83a0-97ea994b6e7a",
   "metadata": {},
   "source": [
    "### Single noise level"
   ]
  },
  {
   "cell_type": "code",
   "execution_count": 7,
   "id": "21907ce7-fe28-4386-82b8-18ee1bfacf08",
   "metadata": {},
   "outputs": [
    {
     "name": "stdout",
     "output_type": "stream",
     "text": [
      "\n",
      "Flagged percentage:\t 14.79 %\n",
      "QSP fidelity:\t\t 0.7156437037906349\n"
     ]
    },
    {
     "data": {
      "text/plain": [
       "(0.14790000000000003, 0.7156437037906349)"
      ]
     },
     "execution_count": 7,
     "metadata": {},
     "output_type": "execute_result"
    }
   ],
   "source": [
    "p_depol,p_readout = 1e-2,1e-2\n",
    "\n",
    "noise_model = cirq.NoiseModel.from_noise_model_like(cirq.depolarize(p=p_depol))\n",
    "readout_noise = cirq.BitFlipChannel(p=p_readout)\n",
    "circuit = cirq.Circuit()\n",
    "for i,gate_seq in enumerate(gate_seqs):\n",
    "    circuit += create_cirq(num_qubits,gate_seq,noise_model,readout_noise,[f'synd_X{i+1}',f'flag_X{i+1}'])[0]\n",
    "\n",
    "QND_fidelity_measures(num_qubits,in_circuit,circuit,noise_model,readout_noise,num_rep,None,False)"
   ]
  },
  {
   "cell_type": "code",
   "execution_count": 8,
   "id": "8857df1e-5ee2-4115-ac99-1157ff6110f7",
   "metadata": {},
   "outputs": [
    {
     "name": "stdout",
     "output_type": "stream",
     "text": [
      "\n",
      "Flagged percentage:\t 14.83 %\n",
      "QSP fidelity:\t\t 0.718562874251497\n"
     ]
    },
    {
     "data": {
      "text/plain": [
       "(0.1483, 0.718562874251497)"
      ]
     },
     "execution_count": 8,
     "metadata": {},
     "output_type": "execute_result"
    }
   ],
   "source": [
    "QND_fidelity_measures(num_qubits,in_circuit,circuit,noise_model,readout_noise,num_rep,None,False)"
   ]
  },
  {
   "cell_type": "code",
   "execution_count": 19,
   "id": "908884d5-46b4-42cf-b3bb-29d44b093991",
   "metadata": {},
   "outputs": [
    {
     "name": "stdout",
     "output_type": "stream",
     "text": [
      "\n",
      "Flagged percentage:\t 15.14 %\n",
      "QSP fidelity:\t\t 0.7149422578364365\n"
     ]
    },
    {
     "data": {
      "text/plain": [
       "(0.15139999999999998, 0.7149422578364365)"
      ]
     },
     "execution_count": 19,
     "metadata": {},
     "output_type": "execute_result"
    }
   ],
   "source": [
    "# %%prun -s time -q -l 30 -T prun0\n",
    "QND_fidelity_measures(num_qubits,in_circuit,circuit,noise_model,readout_noise,num_rep,None,False)"
   ]
  },
  {
   "cell_type": "code",
   "execution_count": 15,
   "id": "d77374ac-cf71-4d8c-bb18-293483335da5",
   "metadata": {
    "scrolled": true,
    "tags": []
   },
   "outputs": [
    {
     "name": "stdout",
     "output_type": "stream",
     "text": [
      "         179762 function calls (158435 primitive calls) in 7.125 seconds\n",
      "\n",
      "   Ordered by: internal time\n",
      "   List reduced from 371 to 30 due to restriction <30>\n",
      "\n",
      "   ncalls  tottime  percall  cumtime  percall filename:lineno(function)\n",
      "    10000    6.849    0.001    6.849    0.001 {built-in method qsimcirq.qsim_sse.qtrajectory_sample}\n",
      "        1    0.107    0.107    7.076    7.076 qsim_simulator.py:282(_sample_measure_results)\n",
      "    10000    0.036    0.000    0.036    0.000 {method 'randint' of 'numpy.random.mtrand.RandomState' objects}\n",
      "     3239    0.017    0.000    0.017    0.000 {method 'reduce' of 'numpy.ufunc' objects}\n",
      "18158/11219    0.009    0.000    0.010    0.000 {built-in method builtins.getattr}\n",
      "      656    0.006    0.000    0.006    0.000 moment.py:97(operations)\n",
      "       56    0.006    0.000    0.014    0.000 2152469903.py:8(signed_probs)\n",
      "4395/1899    0.004    0.000    0.034    0.000 {built-in method numpy.core._multiarray_umath.implement_array_function}\n",
      "        1    0.004    0.004    0.075    0.075 qsim_circuit.py:331(translate_cirq_to_qtrajectory)\n",
      "      316    0.004    0.000    0.007    0.000 numeric.py:2340(within_tol)\n",
      "      722    0.003    0.000    0.003    0.000 twodim_base.py:161(eye)\n",
      "9750/7982    0.003    0.000    0.009    0.000 {built-in method builtins.isinstance}\n",
      "    10000    0.002    0.000    0.039    0.000 qsim_simulator.py:256(get_seed)\n",
      "      102    0.002    0.000    0.002    0.000 {built-in method qsimcirq.qsim_sse.add_channel}\n",
      "        1    0.002    0.002    7.125    7.125 2152469903.py:22(QND_fidelity_measures)\n",
      "      228    0.002    0.000    0.002    0.000 eigen_gate.py:345(<listcomp>)\n",
      "9252/2313    0.002    0.000    0.009    0.000 _compat.py:680(__getattr__)\n",
      "     4482    0.002    0.000    0.002    0.000 {built-in method _abc._abc_instancecheck}\n",
      "      304    0.002    0.000    0.002    0.000 numeric.py:851(outer)\n",
      "      138    0.002    0.000    0.007    0.000 qsim_circuit.py:36(_cirq_gate_kind)\n",
      " 1100/974    0.002    0.000    0.009    0.000 qid_shape_protocol.py:81(qid_shape)\n",
      "     1252    0.002    0.000    0.009    0.000 fromnumeric.py:69(_wrapreduction)\n",
      "      884    0.001    0.000    0.002    0.000 {built-in method _abc._abc_subclasscheck}\n",
      " 2115/771    0.001    0.000    0.011    0.000 op_tree.py:92(flatten_to_ops)\n",
      "      316    0.001    0.000    0.013    0.000 numeric.py:2259(isclose)\n",
      "      316    0.001    0.000    0.001    0.000 {method 'dot' of 'numpy.ndarray' objects}\n",
      "      304    0.001    0.000    0.008    0.000 shape_base.py:1067(kron)\n",
      "      677    0.001    0.000    0.001    0.000 {built-in method numpy.array}\n",
      "       52    0.001    0.000    0.002    0.000 linalg.py:1470(svd)\n",
      "     4482    0.001    0.000    0.003    0.000 abc.py:117(__instancecheck__)\n"
     ]
    }
   ],
   "source": [
    "print(open('prun0', 'r').read())"
   ]
  },
  {
   "cell_type": "code",
   "execution_count": 10,
   "id": "6c9af098-7615-4132-8a15-fd785f9fc742",
   "metadata": {
    "scrolled": true,
    "tags": []
   },
   "outputs": [
    {
     "name": "stdout",
     "output_type": "stream",
     "text": [
      "         179762 function calls (158435 primitive calls) in 7.242 seconds\n",
      "\n",
      "   Ordered by: cumulative time\n",
      "   List reduced from 371 to 30 due to restriction <30>\n",
      "\n",
      "   ncalls  tottime  percall  cumtime  percall filename:lineno(function)\n",
      "        1    0.000    0.000    7.242    7.242 {built-in method builtins.exec}\n",
      "        1    0.000    0.000    7.242    7.242 <string>:1(<module>)\n",
      "        1    0.003    0.003    7.241    7.241 2152469903.py:22(QND_fidelity_measures)\n",
      "        1    0.000    0.000    7.205    7.205 sampler.py:36(run)\n",
      "        1    0.000    0.000    7.205    7.205 simulator.py:70(run_sweep)\n",
      "        2    0.000    0.000    7.205    3.602 simulator.py:80(run_sweep_iter)\n",
      "        1    0.000    0.000    7.202    7.202 qsim_simulator.py:260(_run)\n",
      "        1    0.117    0.117    7.202    7.202 qsim_simulator.py:282(_sample_measure_results)\n",
      "    10000    6.972    0.001    6.972    0.001 {built-in method qsimcirq.qsim_sse.qtrajectory_sample}\n",
      "        1    0.000    0.000    0.062    0.062 qsim_simulator.py:680(_translate_circuit)\n",
      "        1    0.004    0.004    0.062    0.062 qsim_circuit.py:331(translate_cirq_to_qtrajectory)\n",
      "    10000    0.004    0.000    0.046    0.000 qsim_simulator.py:256(get_seed)\n",
      "    10000    0.043    0.000    0.043    0.000 {method 'randint' of 'numpy.random.mtrand.RandomState' objects}\n",
      "4395/1899    0.010    0.000    0.035    0.000 {built-in method numpy.core._multiarray_umath.implement_array_function}\n",
      "  158/102    0.000    0.000    0.017    0.000 mixture_protocol.py:65(mixture)\n",
      "      102    0.000    0.000    0.017    0.000 gate_operation.py:195(_mixture_)\n",
      "       76    0.001    0.000    0.017    0.000 common_channels.py:105(_mixture_)\n",
      "      316    0.001    0.000    0.016    0.000 predicates.py:99(is_unitary)\n",
      "     3239    0.014    0.000    0.014    0.000 {method 'reduce' of 'numpy.ufunc' objects}\n",
      "      316    0.000    0.000    0.014    0.000 <__array_function__ internals>:177(allclose)\n",
      "       56    0.005    0.000    0.014    0.000 2152469903.py:8(signed_probs)\n",
      "      316    0.000    0.000    0.013    0.000 numeric.py:2180(allclose)\n",
      "       56    0.000    0.000    0.013    0.000 raw_types.py:713(_mixture_)\n",
      "       56    0.000    0.000    0.013    0.000 common_channels.py:300(_mixture_)\n",
      "      316    0.000    0.000    0.011    0.000 <__array_function__ internals>:177(isclose)\n",
      "      316    0.001    0.000    0.011    0.000 numeric.py:2259(isclose)\n",
      "      610    0.000    0.000    0.009    0.000 <__array_function__ internals>:177(concatenate)\n",
      "18158/11219    0.007    0.000    0.009    0.000 {built-in method builtins.getattr}\n",
      "9252/2313    0.002    0.000    0.008    0.000 _compat.py:680(__getattr__)\n",
      "      304    0.000    0.000    0.008    0.000 unitary_protocol.py:89(unitary)\n"
     ]
    }
   ],
   "source": [
    "print(open('prun0', 'r').read())"
   ]
  },
  {
   "cell_type": "markdown",
   "id": "19e1cb5c-d275-4dfd-8196-1eaa3b339df8",
   "metadata": {},
   "source": [
    "### Input state: 0000000, 1111111"
   ]
  },
  {
   "cell_type": "code",
   "execution_count": null,
   "id": "47ba312b-f8a5-481d-9368-e7252e31c41c",
   "metadata": {
    "scrolled": true,
    "tags": []
   },
   "outputs": [
    {
     "name": "stdout",
     "output_type": "stream",
     "text": [
      "\n",
      "Flagged percentage:\t 0.02 %\n",
      "QSP fidelity:\t\t 0.9996999399879976\n",
      "\n",
      "Flagged percentage:\t 0.02 %\n",
      "QSP fidelity:\t\t 0.998999799959992\n",
      "\n",
      "Flagged percentage:\t 0.19 %\n",
      "QSP fidelity:\t\t 0.9982967638513176\n",
      "\n",
      "Flagged percentage:\t 0.43 %\n",
      "QSP fidelity:\t\t 0.9919654514411971\n",
      "\n",
      "Flagged percentage:\t 1.36 %\n",
      "QSP fidelity:\t\t 0.9763787510137875\n",
      "\n",
      "Flagged percentage:\t 4.32 %\n",
      "QSP fidelity:\t\t 0.9277801003344481\n",
      "\n",
      "Flagged percentage:\t 12.73 %\n",
      "QSP fidelity:\t\t 0.7759825827890455\n",
      "\n",
      "Flagged percentage:\t 34.37 %\n",
      "QSP fidelity:\t\t 0.47219259484991616\n",
      "\n",
      "Flagged percentage:\t 67.75 %\n",
      "QSP fidelity:\t\t 0.17860465116279073\n",
      "\n",
      "Flagged percentage:\t 0.02 %\n",
      "QSP fidelity:\t\t 0.9988997799559913\n",
      "\n",
      "Flagged percentage:\t 0.06 %\n",
      "QSP fidelity:\t\t 0.9978987392435461\n",
      "\n",
      "Flagged percentage:\t 0.16 %\n",
      "QSP fidelity:\t\t 0.99609375\n",
      "\n",
      "Flagged percentage:\t 0.43 %\n",
      "QSP fidelity:\t\t 0.9923671788691373\n",
      "\n",
      "Flagged percentage:\t 1.49 %\n",
      "QSP fidelity:\t\t 0.9763475789259974\n",
      "\n",
      "Flagged percentage:\t 4.39 %\n",
      "QSP fidelity:\t\t 0.9198828574416902\n",
      "\n",
      "Flagged percentage:\t 13.13 %\n",
      "QSP fidelity:\t\t 0.7765626798664671\n",
      "\n",
      "Flagged percentage:\t 34.16 %\n",
      "QSP fidelity:\t\t 0.4886087484811664\n",
      "\n",
      "Flagged percentage:\t 67.49 %\n",
      "QSP fidelity:\t\t 0.1857889880036912\n",
      "\n",
      "Flagged percentage:\t 0.33 %\n",
      "QSP fidelity:\t\t 0.9890639109059898\n",
      "\n",
      "Flagged percentage:\t 0.31 %\n",
      "QSP fidelity:\t\t 0.9892667268532451\n",
      "\n",
      "Flagged percentage:\t 0.45 %\n",
      "QSP fidelity:\t\t 0.9874434957307885\n",
      "\n",
      "Flagged percentage:\t 0.70 %\n",
      "QSP fidelity:\t\t 0.9840886203423967\n",
      "\n",
      "Flagged percentage:\t 1.66 %\n",
      "QSP fidelity:\t\t 0.9647142566605654\n",
      "\n",
      "Flagged percentage:\t 4.45 %\n",
      "QSP fidelity:\t\t 0.9144950287807431\n",
      "\n",
      "Flagged percentage:\t 13.51 %\n",
      "QSP fidelity:\t\t 0.7758122326280494\n",
      "\n",
      "Flagged percentage:\t 34.48 %\n",
      "QSP fidelity:\t\t 0.4696275946275946\n",
      "\n",
      "Flagged percentage:\t 67.61 %\n",
      "QSP fidelity:\t\t 0.1701142327878975\n",
      "\n",
      "Flagged percentage:\t 3.00 %\n",
      "QSP fidelity:\t\t 0.9049484536082474\n",
      "\n",
      "Flagged percentage:\t 2.90 %\n",
      "QSP fidelity:\t\t 0.9069001029866117\n",
      "\n",
      "Flagged percentage:\t 3.21 %\n",
      "QSP fidelity:\t\t 0.9043289596032649\n",
      "\n",
      "Flagged percentage:\t 3.18 %\n",
      "QSP fidelity:\t\t 0.8981615368725471\n",
      "\n",
      "Flagged percentage:\t 4.02 %\n",
      "QSP fidelity:\t\t 0.8820587622421338\n",
      "\n",
      "Flagged percentage:\t 6.98 %\n",
      "QSP fidelity:\t\t 0.8375618146635132\n",
      "\n",
      "Flagged percentage:\t 15.38 %\n",
      "QSP fidelity:\t\t 0.7096431103757977\n",
      "\n",
      "Flagged percentage:\t 36.11 %\n",
      "QSP fidelity:\t\t 0.44185318516199723\n",
      "\n",
      "Flagged percentage:\t 68.59 %\n",
      "QSP fidelity:\t\t 0.16141356255969436\n",
      "\n",
      "Flagged percentage:\t 26.96 %\n",
      "QSP fidelity:\t\t 0.36308871851040525\n",
      "\n",
      "Flagged percentage:\t 26.08 %\n",
      "QSP fidelity:\t\t 0.3801406926406926\n",
      "\n",
      "Flagged percentage:\t 27.89 %\n",
      "QSP fidelity:\t\t 0.3648592428234641\n",
      "\n",
      "Flagged percentage:\t 27.79 %\n",
      "QSP fidelity:\t\t 0.36643124221022016\n",
      "\n",
      "Flagged percentage:\t 27.86 %\n",
      "QSP fidelity:\t\t 0.36429165511505407\n",
      "\n",
      "Flagged percentage:\t 28.92 %\n",
      "QSP fidelity:\t\t 0.3500281373100731\n",
      "\n",
      "Flagged percentage:\t 34.79 %\n",
      "QSP fidelity:\t\t 0.3189694832080969\n",
      "\n",
      "Flagged percentage:\t 50.06 %\n",
      "QSP fidelity:\t\t 0.21726071285542653\n",
      "\n",
      "Flagged percentage:\t 73.03 %\n",
      "QSP fidelity:\t\t 0.13793103448275862\n"
     ]
    }
   ],
   "source": [
    "init_state = np.array([0,0,0,0,0,0,0]) #np.random.randint(2,size=7)\n",
    "print(f'Initial state: {\"\".join(init_state.astype(str))}')\n",
    "\n",
    "in_circuit = cirq.Circuit(\n",
    "    cirq.reset_each(*qubits),\n",
    "    cirq.X.on_each(np.array(qubits[:num_qubits[0]])[init_state==1])\n",
    ")\n",
    "\n",
    "ps_readout= np.logspace(-5,-1,5) \n",
    "ps_depol= np.logspace(-5,-1,9)\n",
    "\n",
    "fidelities = []\n",
    "for p_readout in ps_readout:\n",
    "    fidelities.append([])\n",
    "    for p_depol in ps_depol:\n",
    "        noise_model = cirq.NoiseModel.from_noise_model_like(cirq.depolarize(p=p_depol))\n",
    "        readout_noise = cirq.BitFlipChannel(p=p_readout)\n",
    "        circuit = cirq.Circuit()\n",
    "        for i,gate_seq in enumerate(gate_seqs):\n",
    "            circuit += create_cirq(num_qubits,gate_seq,noise_model,readout_noise,[f'synd_X{i+1}',f'flag_X{i+1}'])[0]\n",
    "        fidelities[-1].append(QND_fidelity_measures(num_qubits,in_circuit,circuit,noise_model,readout_noise,num_rep,None,False))\n",
    "fidelities = np.array(fidelities)\n",
    "np.save('data/fullcircuit_fidelities_readout_depol_0000000.npy',fidelities)"
   ]
  },
  {
   "cell_type": "code",
   "execution_count": 23,
   "id": "9eed3897-7c11-4d4a-9ad8-5e6e467b721b",
   "metadata": {
    "scrolled": true,
    "tags": []
   },
   "outputs": [
    {
     "name": "stdout",
     "output_type": "stream",
     "text": [
      "Initial state: 1111111\n",
      "\n",
      "Flagged percentage:\t 0.00 %\n",
      "QSP fidelity:\t\t 0.9996\n",
      "\n",
      "Flagged percentage:\t 0.02 %\n",
      "QSP fidelity:\t\t 0.9991998399679937\n",
      "\n",
      "Flagged percentage:\t 0.14 %\n",
      "QSP fidelity:\t\t 0.9976967754856799\n",
      "\n",
      "Flagged percentage:\t 0.48 %\n",
      "QSP fidelity:\t\t 0.9921623794212219\n",
      "\n",
      "Flagged percentage:\t 1.53 %\n",
      "QSP fidelity:\t\t 0.974916218137504\n",
      "\n",
      "Flagged percentage:\t 4.49 %\n",
      "QSP fidelity:\t\t 0.9230447073604857\n",
      "\n",
      "Flagged percentage:\t 12.61 %\n",
      "QSP fidelity:\t\t 0.7829271083648014\n",
      "\n",
      "Flagged percentage:\t 34.46 %\n",
      "QSP fidelity:\t\t 0.48779371376258773\n",
      "\n",
      "Flagged percentage:\t 68.87 %\n",
      "QSP fidelity:\t\t 0.1670414391262448\n",
      "\n",
      "Flagged percentage:\t 0.07 %\n",
      "QSP fidelity:\t\t 0.999099369558691\n",
      "\n",
      "Flagged percentage:\t 0.05 %\n",
      "QSP fidelity:\t\t 0.9983991995997998\n",
      "\n",
      "Flagged percentage:\t 0.15 %\n",
      "QSP fidelity:\t\t 0.9970956434651979\n",
      "\n",
      "Flagged percentage:\t 0.56 %\n",
      "QSP fidelity:\t\t 0.9923572003218022\n",
      "\n",
      "Flagged percentage:\t 1.24 %\n",
      "QSP fidelity:\t\t 0.9726609963547995\n",
      "\n",
      "Flagged percentage:\t 4.68 %\n",
      "QSP fidelity:\t\t 0.927717163239614\n",
      "\n",
      "Flagged percentage:\t 12.80 %\n",
      "QSP fidelity:\t\t 0.7839449541284405\n",
      "\n",
      "Flagged percentage:\t 34.32 %\n",
      "QSP fidelity:\t\t 0.4669610231425091\n",
      "\n",
      "Flagged percentage:\t 68.05 %\n",
      "QSP fidelity:\t\t 0.16682316118935836\n",
      "\n",
      "Flagged percentage:\t 0.29 %\n",
      "QSP fidelity:\t\t 0.9892688797512788\n",
      "\n",
      "Flagged percentage:\t 0.49 %\n",
      "QSP fidelity:\t\t 0.9874384483971459\n",
      "\n",
      "Flagged percentage:\t 0.44 %\n",
      "QSP fidelity:\t\t 0.9885496183206106\n",
      "\n",
      "Flagged percentage:\t 0.93 %\n",
      "QSP fidelity:\t\t 0.9820329060260421\n",
      "\n",
      "Flagged percentage:\t 1.58 %\n",
      "QSP fidelity:\t\t 0.9689087583824427\n",
      "\n",
      "Flagged percentage:\t 4.67 %\n",
      "QSP fidelity:\t\t 0.9149270953529844\n",
      "\n",
      "Flagged percentage:\t 12.67 %\n",
      "QSP fidelity:\t\t 0.7828924768120921\n",
      "\n",
      "Flagged percentage:\t 33.93 %\n",
      "QSP fidelity:\t\t 0.47207507189344633\n",
      "\n",
      "Flagged percentage:\t 68.43 %\n",
      "QSP fidelity:\t\t 0.17199873297434273\n",
      "\n",
      "Flagged percentage:\t 2.90 %\n",
      "QSP fidelity:\t\t 0.9024716786817715\n",
      "\n",
      "Flagged percentage:\t 2.86 %\n",
      "QSP fidelity:\t\t 0.9053942763022442\n",
      "\n",
      "Flagged percentage:\t 2.84 %\n",
      "QSP fidelity:\t\t 0.90356113627007\n",
      "\n",
      "Flagged percentage:\t 3.52 %\n",
      "QSP fidelity:\t\t 0.8935530679933665\n",
      "\n",
      "Flagged percentage:\t 4.19 %\n",
      "QSP fidelity:\t\t 0.8853981839056465\n",
      "\n",
      "Flagged percentage:\t 7.25 %\n",
      "QSP fidelity:\t\t 0.8404312668463612\n",
      "\n",
      "Flagged percentage:\t 15.04 %\n",
      "QSP fidelity:\t\t 0.7052730696798493\n",
      "\n",
      "Flagged percentage:\t 36.30 %\n",
      "QSP fidelity:\t\t 0.44693877551020406\n",
      "\n",
      "Flagged percentage:\t 68.02 %\n",
      "QSP fidelity:\t\t 0.16604127579737335\n",
      "\n",
      "Flagged percentage:\t 26.25 %\n",
      "QSP fidelity:\t\t 0.3774915254237288\n",
      "\n",
      "Flagged percentage:\t 26.10 %\n",
      "QSP fidelity:\t\t 0.3836265223274695\n",
      "\n",
      "Flagged percentage:\t 27.65 %\n",
      "QSP fidelity:\t\t 0.3748445058742226\n",
      "\n",
      "Flagged percentage:\t 27.71 %\n",
      "QSP fidelity:\t\t 0.3651957393830405\n",
      "\n",
      "Flagged percentage:\t 28.32 %\n",
      "QSP fidelity:\t\t 0.36188616071428575\n",
      "\n",
      "Flagged percentage:\t 30.84 %\n",
      "QSP fidelity:\t\t 0.35641989589358003\n",
      "\n",
      "Flagged percentage:\t 35.85 %\n",
      "QSP fidelity:\t\t 0.32081060015588464\n",
      "\n",
      "Flagged percentage:\t 49.57 %\n",
      "QSP fidelity:\t\t 0.21852072179258378\n",
      "\n",
      "Flagged percentage:\t 72.48 %\n",
      "QSP fidelity:\t\t 0.13662790697674418\n"
     ]
    }
   ],
   "source": [
    "init_state = np.array([1,1,1,1,1,1,1]) #np.random.randint(2,size=7)\n",
    "print(f'Initial state: {\"\".join(init_state.astype(str))}')\n",
    "\n",
    "in_circuit = cirq.Circuit(\n",
    "    cirq.reset_each(*qubits),\n",
    "    cirq.X.on_each(np.array(qubits[:num_qubits[0]])[init_state==1])\n",
    ")\n",
    "\n",
    "# Run through grid of gate and readout errors\n",
    "ps_readout= np.logspace(-5,-1,5) \n",
    "ps_depol= np.logspace(-5,-1,9)\n",
    "\n",
    "fidelities = []\n",
    "for p_readout in ps_readout:\n",
    "    fidelities.append([])\n",
    "    for p_depol in ps_depol:\n",
    "        noise_model = cirq.NoiseModel.from_noise_model_like(cirq.depolarize(p=p_depol))\n",
    "        readout_noise = cirq.BitFlipChannel(p=p_readout)\n",
    "        circuit = cirq.Circuit()\n",
    "        for i,gate_seq in enumerate(gate_seqs):\n",
    "            circuit += create_cirq(num_qubits,gate_seq,noise_model,readout_noise,[f'synd_X{i+1}',f'flag_X{i+1}'])[0]\n",
    "        fidelities[-1].append(QND_fidelity_measures(num_qubits,in_circuit,circuit,noise_model,readout_noise,num_rep,None,False))\n",
    "fidelities = np.array(fidelities)\n",
    "np.save('data/fullcircuit_fidelities_readout_depol_1111111.npy',fidelities)"
   ]
  },
  {
   "cell_type": "markdown",
   "id": "9c95ec68-7c26-4a05-ab3e-1db00e16a0c2",
   "metadata": {},
   "source": [
    "### Input state: 0000000+1111111"
   ]
  },
  {
   "cell_type": "code",
   "execution_count": 49,
   "id": "b63d73ab-de32-44f9-b18c-ddf677eb8cba",
   "metadata": {},
   "outputs": [
    {
     "name": "stdout",
     "output_type": "stream",
     "text": [
      "data0: ───────R───H───@───@───@───@───@───@───\n",
      "                      │   │   │   │   │   │\n",
      "data1: ───────R───────X───┼───┼───┼───┼───┼───\n",
      "                          │   │   │   │   │\n",
      "data2: ───────R───────────X───┼───┼───┼───┼───\n",
      "                              │   │   │   │\n",
      "data3: ───────R───────────────X───┼───┼───┼───\n",
      "                                  │   │   │\n",
      "data4: ───────R───────────────────X───┼───┼───\n",
      "                                      │   │\n",
      "data5: ───────R───────────────────────X───┼───\n",
      "                                          │\n",
      "data6: ───────R───────────────────────────X───\n",
      "\n",
      "flag0: ───────R───────────────────────────────\n",
      "\n",
      "flag1: ───────R───────────────────────────────\n",
      "\n",
      "flag2: ───────R───────────────────────────────\n",
      "\n",
      "syndrome0: ───R───────────────────────────────\n",
      "\n",
      "syndrome1: ───R───────────────────────────────\n",
      "\n",
      "syndrome2: ───R───────────────────────────────\n",
      "Entangled state:\t 0.71|0000000000000⟩ + 0.71|1111111000000⟩\n"
     ]
    }
   ],
   "source": [
    "in_circuit = cirq.Circuit(\n",
    "    cirq.reset_each(*qubits),\n",
    "    cirq.H(qubits[0]),\n",
    "    *[cirq.CX(qubits[0],qubits[i]) for i in range(1,num_qubits[0])]\n",
    ")\n",
    "print(in_circuit)\n",
    "\n",
    "qsim_simulator = qsimcirq.QSimSimulator()\n",
    "results = qsim_simulator.simulate(in_circuit)\n",
    "print('Entangled state:\\t',results.dirac_notation())"
   ]
  },
  {
   "cell_type": "code",
   "execution_count": 50,
   "id": "3f080265-c2e5-4c3e-a713-b2ad52c8f99a",
   "metadata": {
    "scrolled": true,
    "tags": []
   },
   "outputs": [
    {
     "name": "stdout",
     "output_type": "stream",
     "text": [
      "\n",
      "Flagged percentage:\t 0.02 %\n",
      "QSP fidelity:\t\t 0.9997999599919984\n",
      "\n",
      "Flagged percentage:\t 0.07 %\n",
      "QSP fidelity:\t\t 0.9988992294606225\n",
      "\n",
      "Flagged percentage:\t 0.19 %\n",
      "QSP fidelity:\t\t 0.9972948602344455\n",
      "\n",
      "Flagged percentage:\t 0.41 %\n",
      "QSP fidelity:\t\t 0.9925695350938849\n",
      "\n",
      "Flagged percentage:\t 1.63 %\n",
      "QSP fidelity:\t\t 0.9768222018908204\n",
      "\n",
      "Flagged percentage:\t 4.21 %\n",
      "QSP fidelity:\t\t 0.9225388871489717\n",
      "\n",
      "Flagged percentage:\t 12.35 %\n",
      "QSP fidelity:\t\t 0.7848260125499145\n",
      "\n",
      "Flagged percentage:\t 33.44 %\n",
      "QSP fidelity:\t\t 0.4846754807692307\n",
      "\n",
      "Flagged percentage:\t 67.26 %\n",
      "QSP fidelity:\t\t 0.16585216860109958\n",
      "\n",
      "Flagged percentage:\t 0.05 %\n",
      "QSP fidelity:\t\t 0.9986993496748373\n",
      "\n",
      "Flagged percentage:\t 0.06 %\n",
      "QSP fidelity:\t\t 0.998699219531719\n",
      "\n",
      "Flagged percentage:\t 0.19 %\n",
      "QSP fidelity:\t\t 0.9976956216811943\n",
      "\n",
      "Flagged percentage:\t 0.44 %\n",
      "QSP fidelity:\t\t 0.9908597830453996\n",
      "\n",
      "Flagged percentage:\t 1.27 %\n",
      "QSP fidelity:\t\t 0.9761977109287958\n",
      "\n",
      "Flagged percentage:\t 4.39 %\n",
      "QSP fidelity:\t\t 0.9212425478506433\n",
      "\n",
      "Flagged percentage:\t 12.82 %\n",
      "QSP fidelity:\t\t 0.7801101169993118\n",
      "\n",
      "Flagged percentage:\t 33.62 %\n",
      "QSP fidelity:\t\t 0.4740885808978609\n",
      "\n",
      "Flagged percentage:\t 67.80 %\n",
      "QSP fidelity:\t\t 0.16521739130434782\n",
      "\n",
      "Flagged percentage:\t 0.30 %\n",
      "QSP fidelity:\t\t 0.9908726178535607\n",
      "\n",
      "Flagged percentage:\t 0.30 %\n",
      "QSP fidelity:\t\t 0.9878635907723169\n",
      "\n",
      "Flagged percentage:\t 0.39 %\n",
      "QSP fidelity:\t\t 0.9882541913462504\n",
      "\n",
      "Flagged percentage:\t 0.63 %\n",
      "QSP fidelity:\t\t 0.9815839790681291\n",
      "\n",
      "Flagged percentage:\t 1.67 %\n",
      "QSP fidelity:\t\t 0.9657276517848064\n",
      "\n",
      "Flagged percentage:\t 4.61 %\n",
      "QSP fidelity:\t\t 0.9169724289757837\n",
      "\n",
      "Flagged percentage:\t 13.06 %\n",
      "QSP fidelity:\t\t 0.7700713135495745\n",
      "\n",
      "Flagged percentage:\t 34.93 %\n",
      "QSP fidelity:\t\t 0.4768710619333026\n",
      "\n",
      "Flagged percentage:\t 67.73 %\n",
      "QSP fidelity:\t\t 0.1809730399752092\n",
      "\n",
      "Flagged percentage:\t 2.90 %\n",
      "QSP fidelity:\t\t 0.9030895983522143\n",
      "\n",
      "Flagged percentage:\t 3.05 %\n",
      "QSP fidelity:\t\t 0.9035585353274884\n",
      "\n",
      "Flagged percentage:\t 3.17 %\n",
      "QSP fidelity:\t\t 0.9039553857275638\n",
      "\n",
      "Flagged percentage:\t 3.37 %\n",
      "QSP fidelity:\t\t 0.8971333954258512\n",
      "\n",
      "Flagged percentage:\t 4.31 %\n",
      "QSP fidelity:\t\t 0.8820148395861637\n",
      "\n",
      "Flagged percentage:\t 7.67 %\n",
      "QSP fidelity:\t\t 0.84208816202751\n",
      "\n",
      "Flagged percentage:\t 14.61 %\n",
      "QSP fidelity:\t\t 0.7126127181168755\n",
      "\n",
      "Flagged percentage:\t 35.66 %\n",
      "QSP fidelity:\t\t 0.4483991296238732\n",
      "\n",
      "Flagged percentage:\t 68.61 %\n",
      "QSP fidelity:\t\t 0.15705638738451733\n",
      "\n",
      "Flagged percentage:\t 28.06 %\n",
      "QSP fidelity:\t\t 0.37378370864609395\n",
      "\n",
      "Flagged percentage:\t 26.71 %\n",
      "QSP fidelity:\t\t 0.3730386137262928\n",
      "\n",
      "Flagged percentage:\t 27.09 %\n",
      "QSP fidelity:\t\t 0.36044438348649016\n",
      "\n",
      "Flagged percentage:\t 27.72 %\n",
      "QSP fidelity:\t\t 0.37617598229109017\n",
      "\n",
      "Flagged percentage:\t 27.31 %\n",
      "QSP fidelity:\t\t 0.3627734213784565\n",
      "\n",
      "Flagged percentage:\t 29.20 %\n",
      "QSP fidelity:\t\t 0.3524011299435028\n",
      "\n",
      "Flagged percentage:\t 35.83 %\n",
      "QSP fidelity:\t\t 0.3140096618357488\n",
      "\n",
      "Flagged percentage:\t 48.74 %\n",
      "QSP fidelity:\t\t 0.23097932110807648\n",
      "\n",
      "Flagged percentage:\t 72.94 %\n",
      "QSP fidelity:\t\t 0.13858093126385806\n"
     ]
    }
   ],
   "source": [
    "# Run through grid of gate and readout errors\n",
    "ps_readout= np.logspace(-5,-1,5) \n",
    "ps_depol= np.logspace(-5,-1,9)\n",
    "\n",
    "fidelities = []\n",
    "for p_readout in ps_readout:\n",
    "    fidelities.append([])\n",
    "    for p_depol in ps_depol:\n",
    "        noise_model = cirq.NoiseModel.from_noise_model_like(cirq.depolarize(p=p_depol))\n",
    "        readout_noise = cirq.BitFlipChannel(p=p_readout)\n",
    "        circuit = cirq.Circuit()\n",
    "        for i,gate_seq in enumerate(gate_seqs):\n",
    "            circuit += create_cirq(num_qubits,gate_seq,noise_model,readout_noise,[f'synd_X{i+1}',f'flag_X{i+1}'])[0]\n",
    "        fidelities[-1].append(QND_fidelity_measures(num_qubits,in_circuit,circuit,noise_model,readout_noise,num_rep,None,False))\n",
    "fidelities = np.array(fidelities)\n",
    "np.save('data/fullcircuit_fidelities_readout_depol_0000000+1111111.npy',fidelities)"
   ]
  },
  {
   "cell_type": "markdown",
   "id": "95c55348-ded9-40f2-ac32-effac60de152",
   "metadata": {
    "tags": []
   },
   "source": [
    "## Plotting"
   ]
  },
  {
   "cell_type": "code",
   "execution_count": 52,
   "id": "431b41f6-040b-4b96-9071-36dc8fa5ecb7",
   "metadata": {},
   "outputs": [],
   "source": [
    "circs = ['0000000','1111111','0000000+1111111'] #['1c+4a+1c'] #,'0000+1111'] #,'1111'\n",
    "fids = np.array([np.load(f'data/fullcircuit_fidelities_readout_depol_{c}.npy') for c in circs])\n",
    "neglog_infids = -np.log10(1-fids)\n",
    "neglog_infids[neglog_infids == np.inf] = 10"
   ]
  },
  {
   "cell_type": "code",
   "execution_count": 53,
   "id": "a618d44b-e745-497b-9165-e12c9836965b",
   "metadata": {},
   "outputs": [
    {
     "data": {
      "image/png": "[encoded data removed]",
      "text/plain": [
       "<Figure size 864x216 with 3 Axes>"
      ]
     },
     "metadata": {
      "needs_background": "light"
     },
     "output_type": "display_data"
    }
   ],
   "source": [
    "plt.rcParams.update({'font.size': 18,\n",
    "                     'text.usetex': True})\n",
    "\n",
    "fid_labels = ['QSP']\n",
    "plt.figure(figsize=(12,3))\n",
    "for i,circ in enumerate(circs):\n",
    "    plt.subplot(1,3,i+1)\n",
    "    for j,p_readout in enumerate(ps_readout):\n",
    "        plt.semilogx(ps_depol,neglog_infids[i,j,:,1],f'C{j}o--',label='$p_{\\\\rm bf} = '+str(p_readout)+'$')\n",
    "    plt.xlabel('$p_{\\\\rm depol}$')\n",
    "    if i==0: plt.ylabel('$-\\log(1-F_{QSP})$')\n",
    "    if i==len(circs)-1: \n",
    "        plt.legend(bbox_to_anchor=(1, 1.2))\n",
    "    plt.ylim([0,6])\n",
    "    plt.title('$'+circ+'$')\n",
    "plt.tight_layout()\n",
    "plt.savefig('plots/nli_fullcircuit_FQSP.png',dpi=200)"
   ]
  },
  {
   "cell_type": "code",
   "execution_count": 55,
   "id": "3229afce-05ae-4178-a840-e32d10838028",
   "metadata": {},
   "outputs": [
    {
     "data": {
      "image/png": "[encoded data removed]",
      "text/plain": [
       "<Figure size 864x216 with 3 Axes>"
      ]
     },
     "metadata": {
      "needs_background": "light"
     },
     "output_type": "display_data"
    }
   ],
   "source": [
    "plt.rcParams.update({'font.size': 18,\n",
    "                     'text.usetex': True})\n",
    "\n",
    "fid_labels = ['QSP']\n",
    "plt.figure(figsize=(12,3))\n",
    "for i,circ in enumerate(circs):\n",
    "    plt.subplot(1,3,i+1)\n",
    "    for j,p_readout in enumerate(ps_readout):\n",
    "        plt.semilogx(ps_depol,fids[i,j,:,1],f'C{j}o--',label='$p_{\\\\rm bf} = '+str(p_readout)+'$')\n",
    "    plt.xlabel('$p_{\\\\rm depol}$')\n",
    "    if i==0: plt.ylabel('$F_{QSP}$')\n",
    "    if i==len(circs)-1: \n",
    "        plt.legend(bbox_to_anchor=(1, 1.2))\n",
    "    plt.ylim([0,1.05])\n",
    "    plt.title('$'+circ+'$')\n",
    "plt.tight_layout()\n",
    "plt.savefig('plots/fidelity_fullcircuit_FQSP.png',dpi=200)"
   ]
  },
  {
   "cell_type": "code",
   "execution_count": 13,
   "id": "f654d42b-8932-48fc-809b-1198bfc86a19",
   "metadata": {},
   "outputs": [
    {
     "data": {
      "text/plain": [
       "(5, 9)"
      ]
     },
     "execution_count": 13,
     "metadata": {},
     "output_type": "execute_result"
    }
   ],
   "source": [
    "np.load(f'data/fullcircuit_fidelities_readout_depol_0000000.npy')[...,1].shape"
   ]
  },
  {
   "cell_type": "code",
   "execution_count": 25,
   "id": "658c9a7e-21d4-46a2-bdb3-90b7811da0f3",
   "metadata": {},
   "outputs": [
    {
     "name": "stderr",
     "output_type": "stream",
     "text": [
      "/var/folders/kj/jgvpvl2x0pj7x_3xrc02tpt00000gn/T/ipykernel_21209/4912419.py:6: RuntimeWarning: divide by zero encountered in log10\n",
      "  neglog_infids = -np.log10(1-fids)\n"
     ]
    },
    {
     "data": {
      "image/png": "[encoded data removed]",
      "text/plain": [
       "<Figure size 864x216 with 2 Axes>"
      ]
     },
     "metadata": {
      "needs_background": "light"
     },
     "output_type": "display_data"
    }
   ],
   "source": [
    "ps_readout= np.logspace(-5,-1,5) \n",
    "ps_depol= np.logspace(-5,-1,9)\n",
    "\n",
    "fids = np.array([np.load(f'data/new_fidelities_readout_depol_0000.npy')[...,-1],\n",
    "                 np.load(f'data/fullcircuit_fidelities_readout_depol_0000000.npy')[...,1]])\n",
    "neglog_infids = -np.log10(1-fids)\n",
    "neglog_infids[neglog_infids == np.inf] = 10\n",
    "\n",
    "plt.rcParams.update({'font.size': 18,\n",
    "                     'text.usetex': True})\n",
    "\n",
    "circs = ['Single stabilizer','Encoding with 3 stabilizers']\n",
    "plt.figure(figsize=(12,3))\n",
    "for i,circ in enumerate(circs):\n",
    "    plt.subplot(1,2,i+1)\n",
    "    for j,p_readout in enumerate(ps_readout):\n",
    "        plt.semilogx(ps_depol,fids[i,j,:],f'C{j}o--',label='$p_{\\\\rm bf} = '+str(p_readout)+'$')\n",
    "    plt.xlabel('$p_{\\\\rm depol}$')\n",
    "    if i==0: plt.ylabel('$F_{QSP}$')\n",
    "    if i==len(fids)-1: \n",
    "        plt.legend(bbox_to_anchor=(1, 1.2))\n",
    "    plt.ylim([0,1.05])\n",
    "    plt.title(circ)\n",
    "plt.tight_layout()\n",
    "plt.savefig('plots/fidelity_single_encoding_FQSP_0.png',dpi=200)"
   ]
  },
  {
   "cell_type": "code",
   "execution_count": 28,
   "id": "3b9f7289-7f81-44c2-a892-2f6454c4901f",
   "metadata": {},
   "outputs": [
    {
     "data": {
      "text/plain": [
       "array([1.e-05, 1.e-04, 1.e-03, 1.e-02, 1.e-01])"
      ]
     },
     "execution_count": 28,
     "metadata": {},
     "output_type": "execute_result"
    }
   ],
   "source": [
    "ps_readout"
   ]
  },
  {
   "cell_type": "code",
   "execution_count": 29,
   "id": "59ce6a1d-ea09-49dc-a279-aceb8c265064",
   "metadata": {},
   "outputs": [
    {
     "data": {
      "text/plain": [
       "array([1.00000000e-05, 3.16227766e-05, 1.00000000e-04, 3.16227766e-04,\n",
       "       1.00000000e-03, 3.16227766e-03, 1.00000000e-02, 3.16227766e-02,\n",
       "       1.00000000e-01])"
      ]
     },
     "execution_count": 29,
     "metadata": {},
     "output_type": "execute_result"
    }
   ],
   "source": [
    "ps_depol"
   ]
  },
  {
   "cell_type": "code",
   "execution_count": 31,
   "id": "8802bda4-0aae-4b51-b51f-3278cfdcff81",
   "metadata": {},
   "outputs": [
    {
     "data": {
      "text/plain": [
       "array([0.87820377, 0.70964311])"
      ]
     },
     "execution_count": 31,
     "metadata": {},
     "output_type": "execute_result"
    }
   ],
   "source": [
    "fids[:,3,6]"
   ]
  },
  {
   "cell_type": "code",
   "execution_count": 32,
   "id": "2d527ebc-8e7c-42c4-9cb8-8aa2ee2f9a44",
   "metadata": {},
   "outputs": [
    {
     "data": {
      "text/plain": [
       "array([0.98673367, 0.96471426])"
      ]
     },
     "execution_count": 32,
     "metadata": {},
     "output_type": "execute_result"
    }
   ],
   "source": [
    "fids[:,2,4]"
   ]
  },
  {
   "cell_type": "markdown",
   "id": "aac7e7e3-3de7-4621-88ab-0a7d9ea95035",
   "metadata": {},
   "source": [
    "# LUT Decoder\n",
    "2.1 Verify 1c and 4a are FT for all 3 plaquettes: the order of qubits doesn't matter"
   ]
  },
  {
   "cell_type": "markdown",
   "id": "f1cfdc14-261c-4d47-8858-6392de2250fe",
   "metadata": {},
   "source": [
    "## Verify FT"
   ]
  },
  {
   "cell_type": "code",
   "execution_count": 4,
   "id": "74e100b2-b971-4cf5-816a-536267af4782",
   "metadata": {},
   "outputs": [
    {
     "name": "stdout",
     "output_type": "stream",
     "text": [
      "                      ┌──┐   ┌──┐\n",
      "data0: ─────────────────@───────────────────\n",
      "                        │\n",
      "data1: ─────────────────┼──────@────────────\n",
      "                        │      │\n",
      "data2: ────────────────@┼──────┼────────────\n",
      "                       ││      │\n",
      "data3: ────────────────┼┼─────@┼────────────\n",
      "                       ││     ││\n",
      "flag0: ───────H───@────X┼─────X┼────@───H───\n",
      "                  │     │      │    │\n",
      "syndrome0: ───────X─────X──────X────X───────\n",
      "                      └──┘   └──┘\n",
      "\n",
      "> Flag error set <\n",
      "       IIZZ\n",
      "       IIIZ\n",
      "       IIXZ\n",
      "       IIYZ\n",
      "       IZII\n",
      "       XZII\n",
      "       YZII\n",
      "       IIII\n",
      "       IIIX\n",
      "       IIIY\n",
      "       IXII\n",
      "       IYII\n",
      "\n",
      "Syndromes of flag error set + previous flags:\n",
      "S 1 2 3 4 5 6 Flags\n",
      "  -----------\n",
      "[[0 0 0 0 1 0 1]\n",
      " [0 0 0 1 0 1 1]\n",
      " [1 1 1 1 0 1 1]\n",
      " [1 1 1 0 1 0 1]\n",
      " [0 0 0 1 0 0 1]\n",
      " [1 1 0 1 0 0 1]\n",
      " [1 1 0 0 1 0 1]\n",
      " [0 0 0 0 0 0 1]\n",
      " [1 0 1 0 0 0 1]\n",
      " [1 0 1 1 0 1 1]\n",
      " [1 0 0 0 0 0 1]\n",
      " [1 0 0 1 0 0 1]]\n",
      "--> Fault tolerant!\n"
     ]
    }
   ],
   "source": [
    "# stabilizer circuit 1c\n",
    "num_qubits = [4,1,1]\n",
    "gate_seq = [[5],(5,4),(2,5),(0,4),(3,5),(1,4),(5,4),[5]]\n",
    "noise_model,readout_noise = None,None\n",
    "ZZZZ_1c,_ = create_qsim_circuit(num_qubits,gate_seq,noise_model,readout_noise)\n",
    "print(ZZZZ_1c)\n",
    "\n",
    "# verify FT\n",
    "stab_strings = ['ZZZZ']\n",
    "fault_types = 'XYZ'\n",
    "qec_code = ['ZZIZZII','ZIZZIIZ','IIIZZZZ','XXIXXII','XIXXIIX','IIIXXXX']\n",
    "flags,flag_error_set,flag_error_set_full = get_flag_error_set(num_qubits,stab_strings,fault_types,gate_seq,verbose=1)\n",
    "\n",
    "flag_error_loc = [0,1,3,4]\n",
    "FT,_ = check_FT(qec_code,flag_error_set,flags,np.array(flag_error_loc),verbose=2)"
   ]
  },
  {
   "cell_type": "code",
   "execution_count": 275,
   "id": "bb567cc7-8563-48ff-87c6-1fe6c408a1e2",
   "metadata": {},
   "outputs": [
    {
     "name": "stdout",
     "output_type": "stream",
     "text": [
      "                      ┌──┐   ┌──┐\n",
      "data0: ─────────────────@───────────────────\n",
      "                        │\n",
      "data1: ─────────────────┼──────@────────────\n",
      "                        │      │\n",
      "data2: ────────────────@┼──────┼────────────\n",
      "                       ││      │\n",
      "data3: ────────────────┼┼─────@┼────────────\n",
      "                       ││     ││\n",
      "flag0: ───────H───@────X┼─────X┼────@───H───\n",
      "                  │     │      │    │\n",
      "syndrome0: ───────X─────X──────X────X───────\n",
      "                      └──┘   └──┘\n",
      "\n",
      "> Flag error set <\n",
      "       IIZZ\n",
      "       IIIZ\n",
      "       IIXZ\n",
      "       IIYZ\n",
      "       IZII\n",
      "       XZII\n",
      "       YZII\n",
      "       IIII\n",
      "       IIIX\n",
      "       IIIY\n",
      "       IXII\n",
      "       IYII\n",
      "\n",
      "Syndromes of flag error set + previous flags:\n",
      "S 1 2 3 4 5 6 Flags\n",
      "  -----------\n",
      "[[0 0 0 0 1 0 1]\n",
      " [0 0 0 1 0 1 1]\n",
      " [1 1 1 1 0 1 1]\n",
      " [1 1 1 0 1 0 1]\n",
      " [0 0 0 1 0 0 1]\n",
      " [1 1 0 1 0 0 1]\n",
      " [1 1 0 0 1 0 1]\n",
      " [0 0 0 0 0 0 1]\n",
      " [1 0 1 0 0 0 1]\n",
      " [1 0 1 1 0 1 1]\n",
      " [1 0 0 0 0 0 1]\n",
      " [1 0 0 1 0 0 1]]\n",
      "--> Fault tolerant!\n"
     ]
    }
   ],
   "source": [
    "# stabilizer circuit 1c\n",
    "num_qubits = [4,1,1]\n",
    "gate_seq = [[5],(5,4),(2,5),(0,4),(3,5),(1,4),(5,4),[5]]\n",
    "noise_model,readout_noise = None,None\n",
    "ZZZZ_1c,_ = create_qsim_circuit(num_qubits,gate_seq,noise_model,readout_noise)\n",
    "print(ZZZZ_1c)\n",
    "\n",
    "# verify FT\n",
    "stab_strings = ['ZZZZ']\n",
    "fault_types = 'XYZ'\n",
    "qec_code = ['ZZIZZII','ZIZZIIZ','IIIZZZZ','XXIXXII','XIXXIIX','IIIXXXX']\n",
    "flags,flag_error_set,flag_error_set_full = get_flag_error_set(num_qubits,stab_strings,fault_types,gate_seq,verbose=1)\n",
    "\n",
    "flag_error_loc = [0,1,3,4]\n",
    "FT,_ = check_FT(qec_code,flag_error_set,flags,np.array(flag_error_loc),verbose=2)"
   ]
  },
  {
   "cell_type": "code",
   "execution_count": 273,
   "id": "8e99479a-4db5-41bb-a4f4-744615aba174",
   "metadata": {},
   "outputs": [
    {
     "name": "stdout",
     "output_type": "stream",
     "text": [
      "                      ┌──┐   ┌──┐\n",
      "data0: ─────────────────@───────────────────\n",
      "                        │\n",
      "data1: ─────────────────┼──────@────────────\n",
      "                        │      │\n",
      "data2: ────────────────@┼──────┼────────────\n",
      "                       ││      │\n",
      "data3: ────────────────┼┼─────@┼────────────\n",
      "                       ││     ││\n",
      "flag0: ───────H───@────X┼─────X┼────@───H───\n",
      "                  │     │      │    │\n",
      "syndrome0: ───────X─────X──────X────X───────\n",
      "                      └──┘   └──┘\n",
      "\n",
      "> Flag error set <\n",
      "       IIZZ\n",
      "       IIIZ\n",
      "       IIXZ\n",
      "       IIYZ\n",
      "       IZII\n",
      "       XZII\n",
      "       YZII\n",
      "       IIII\n",
      "       IIIX\n",
      "       IIIY\n",
      "       IXII\n",
      "       IYII\n",
      "\n",
      "qubits: [1 2 4 5]\n",
      "--> Fault tolerant!\n",
      "--> Fault tolerant!\n",
      "--> Fault tolerant!\n",
      "--> Fault tolerant!\n",
      "--> Fault tolerant!\n",
      "--> Fault tolerant!\n",
      "--> Fault tolerant!\n",
      "--> Fault tolerant!\n",
      "--> Fault tolerant!\n",
      "--> Fault tolerant!\n",
      "--> Fault tolerant!\n",
      "--> Fault tolerant!\n",
      "--> Fault tolerant!\n",
      "--> Fault tolerant!\n",
      "--> Fault tolerant!\n",
      "--> Fault tolerant!\n",
      "--> Fault tolerant!\n",
      "--> Fault tolerant!\n",
      "--> Fault tolerant!\n",
      "--> Fault tolerant!\n",
      "--> Fault tolerant!\n",
      "--> Fault tolerant!\n",
      "--> Fault tolerant!\n",
      "--> Fault tolerant!\n",
      "\n",
      "qubits: [1 3 4 7]\n",
      "--> Fault tolerant!\n",
      "--> Fault tolerant!\n",
      "--> Fault tolerant!\n",
      "--> Fault tolerant!\n",
      "--> Fault tolerant!\n",
      "--> Fault tolerant!\n",
      "--> Fault tolerant!\n",
      "--> Fault tolerant!\n",
      "--> Fault tolerant!\n",
      "--> Fault tolerant!\n",
      "--> Fault tolerant!\n",
      "--> Fault tolerant!\n",
      "--> Fault tolerant!\n",
      "--> Fault tolerant!\n",
      "--> Fault tolerant!\n",
      "--> Fault tolerant!\n",
      "--> Fault tolerant!\n",
      "--> Fault tolerant!\n",
      "--> Fault tolerant!\n",
      "--> Fault tolerant!\n",
      "--> Fault tolerant!\n",
      "--> Fault tolerant!\n",
      "--> Fault tolerant!\n",
      "--> Fault tolerant!\n",
      "\n",
      "qubits: [4 5 6 7]\n",
      "--> Fault tolerant!\n",
      "--> Fault tolerant!\n",
      "--> Fault tolerant!\n",
      "--> Fault tolerant!\n",
      "--> Fault tolerant!\n",
      "--> Fault tolerant!\n",
      "--> Fault tolerant!\n",
      "--> Fault tolerant!\n",
      "--> Fault tolerant!\n",
      "--> Fault tolerant!\n",
      "--> Fault tolerant!\n",
      "--> Fault tolerant!\n",
      "--> Fault tolerant!\n",
      "--> Fault tolerant!\n",
      "--> Fault tolerant!\n",
      "--> Fault tolerant!\n",
      "--> Fault tolerant!\n",
      "--> Fault tolerant!\n",
      "--> Fault tolerant!\n",
      "--> Fault tolerant!\n",
      "--> Fault tolerant!\n",
      "--> Fault tolerant!\n",
      "--> Fault tolerant!\n",
      "--> Fault tolerant!\n"
     ]
    }
   ],
   "source": [
    "# stabilizer circuit 1c\n",
    "num_qubits = [4,1,1]\n",
    "gate_seq = [[5],(5,4),(2,5),(0,4),(3,5),(1,4),(5,4),[5]]\n",
    "noise_model,readout_noise = None,None\n",
    "ZZZZ_1c,_ = create_qsim_circuit(num_qubits,gate_seq,noise_model,readout_noise)\n",
    "print(ZZZZ_1c)\n",
    "\n",
    "# verify FT\n",
    "stab_strings = ['ZZZZ']\n",
    "fault_types = 'XYZ'\n",
    "qec_code = ['ZZIZZII','ZIZZIIZ','IIIZZZZ','XXIXXII','XIXXIIX','IIIXXXX']\n",
    "flags,flag_error_set,flag_error_set_full = get_flag_error_set(num_qubits,stab_strings,fault_types,gate_seq,verbose=1)\n",
    "\n",
    "# for comb in itertools.combinations(range(7),4):\n",
    "for comb in [[0,1,3,4],[0,2,3,6],[3,4,5,6]]:\n",
    "    print('\\nqubits:',np.array(comb)+1)\n",
    "    for flag_error_loc in itertools.permutations(comb):\n",
    "        FT,_ = check_FT(qec_code,flag_error_set,flags,np.array(flag_error_loc),verbose=1)"
   ]
  },
  {
   "cell_type": "code",
   "execution_count": 271,
   "id": "f7b5c013-0afb-49da-9581-a5a7a044bae8",
   "metadata": {},
   "outputs": [
    {
     "name": "stdout",
     "output_type": "stream",
     "text": [
      "                      ┌──┐\n",
      "data0: ─────────────────@────────────────────\n",
      "                        │\n",
      "data1: ─────────────────┼────@───────────────\n",
      "                        │    │\n",
      "data2: ─────────────────┼────┼───@───────────\n",
      "                        │    │   │\n",
      "data3: ────────────────@┼────┼───┼───────────\n",
      "                       ││    │   │\n",
      "flag0: ───────H───@────X┼────┼───┼───@───H───\n",
      "                  │     │    │   │   │\n",
      "syndrome0: ───────X─────X────X───X───X───────\n",
      "                      └──┘\n",
      "\n",
      "> Flag error set <\n",
      "       IIIZ\n",
      "       IIII\n",
      "       IIIX\n",
      "       IIIY\n",
      "       IZZI\n",
      "       XZZI\n",
      "       XIIZ\n",
      "       IIZI\n",
      "       IXZI\n",
      "       IYZI\n",
      "       IIXI\n",
      "       IIYI\n",
      "\n",
      "qubits: [1 2 4 5]\n",
      "--> Fault tolerant!\n",
      "--> Fault tolerant!\n",
      "--> Fault tolerant!\n",
      "--> Fault tolerant!\n",
      "--> Fault tolerant!\n",
      "--> Fault tolerant!\n",
      "--> Fault tolerant!\n",
      "--> Fault tolerant!\n",
      "--> Fault tolerant!\n",
      "--> Fault tolerant!\n",
      "--> Fault tolerant!\n",
      "--> Fault tolerant!\n",
      "--> Fault tolerant!\n",
      "--> Fault tolerant!\n",
      "--> Fault tolerant!\n",
      "--> Fault tolerant!\n",
      "--> Fault tolerant!\n",
      "--> Fault tolerant!\n",
      "--> Fault tolerant!\n",
      "--> Fault tolerant!\n",
      "--> Fault tolerant!\n",
      "--> Fault tolerant!\n",
      "--> Fault tolerant!\n",
      "--> Fault tolerant!\n",
      "\n",
      "qubits: [1 3 4 7]\n",
      "--> Fault tolerant!\n",
      "--> Fault tolerant!\n",
      "--> Fault tolerant!\n",
      "--> Fault tolerant!\n",
      "--> Fault tolerant!\n",
      "--> Fault tolerant!\n",
      "--> Fault tolerant!\n",
      "--> Fault tolerant!\n",
      "--> Fault tolerant!\n",
      "--> Fault tolerant!\n",
      "--> Fault tolerant!\n",
      "--> Fault tolerant!\n",
      "--> Fault tolerant!\n",
      "--> Fault tolerant!\n",
      "--> Fault tolerant!\n",
      "--> Fault tolerant!\n",
      "--> Fault tolerant!\n",
      "--> Fault tolerant!\n",
      "--> Fault tolerant!\n",
      "--> Fault tolerant!\n",
      "--> Fault tolerant!\n",
      "--> Fault tolerant!\n",
      "--> Fault tolerant!\n",
      "--> Fault tolerant!\n",
      "\n",
      "qubits: [4 5 6 7]\n",
      "--> Fault tolerant!\n",
      "--> Fault tolerant!\n",
      "--> Fault tolerant!\n",
      "--> Fault tolerant!\n",
      "--> Fault tolerant!\n",
      "--> Fault tolerant!\n",
      "--> Fault tolerant!\n",
      "--> Fault tolerant!\n",
      "--> Fault tolerant!\n",
      "--> Fault tolerant!\n",
      "--> Fault tolerant!\n",
      "--> Fault tolerant!\n",
      "--> Fault tolerant!\n",
      "--> Fault tolerant!\n",
      "--> Fault tolerant!\n",
      "--> Fault tolerant!\n",
      "--> Fault tolerant!\n",
      "--> Fault tolerant!\n",
      "--> Fault tolerant!\n",
      "--> Fault tolerant!\n",
      "--> Fault tolerant!\n",
      "--> Fault tolerant!\n",
      "--> Fault tolerant!\n",
      "--> Fault tolerant!\n"
     ]
    }
   ],
   "source": [
    "# stabilizer circuit 4a\n",
    "num_qubits = [4,1,1]\n",
    "gate_seq = [[5],(5,4),(3,5),(0,4),(1,4),(2,4),(5,4),[5]]\n",
    "noise_model,readout_noise = None,None\n",
    "ZZZZ_1c,_ = create_qsim_circuit(num_qubits,gate_seq,noise_model,readout_noise)\n",
    "print(ZZZZ_1c)\n",
    "\n",
    "# verify FT\n",
    "stab_strings = ['ZZZZ']\n",
    "fault_types = 'XYZ'\n",
    "qec_code = ['ZZIZZII','ZIZZIIZ','IIIZZZZ','XXIXXII','XIXXIIX','IIIXXXX']\n",
    "flags,flag_error_set,flag_error_set_full = get_flag_error_set(num_qubits,stab_strings,fault_types,gate_seq,verbose=1)\n",
    "\n",
    "# for comb in itertools.combinations(range(7),4):\n",
    "for comb in [[0,1,3,4],[0,2,3,6],[3,4,5,6]]:\n",
    "    print('\\nqubits:',np.array(comb)+1)\n",
    "    for flag_error_loc in itertools.permutations(comb):\n",
    "        FT,_ = check_FT(qec_code,flag_error_set,flags,np.array(flag_error_loc),verbose=1)"
   ]
  },
  {
   "cell_type": "markdown",
   "id": "6e5c33ed-72da-4498-8524-69248d113bcc",
   "metadata": {},
   "source": [
    "## Extract syndrome-flag:error strings"
   ]
  },
  {
   "cell_type": "code",
   "execution_count": 26,
   "id": "95cde3f0-ad20-46a9-aaf1-a270bfc214a2",
   "metadata": {},
   "outputs": [
    {
     "name": "stdout",
     "output_type": "stream",
     "text": [
      "--> Fault tolerant!\n",
      "--> Fault tolerant!\n",
      "--> Fault tolerant!\n",
      "--> Fault tolerant!\n",
      "--> Fault tolerant!\n",
      "--> Fault tolerant!\n"
     ]
    }
   ],
   "source": [
    "num_qubits = [4,1,1]\n",
    "fault_types = 'XYZ'\n",
    "qec_code = ['ZZIZZII','ZIZZIIZ','IIIZZZZ','XXIXXII','XIXXIIX','IIIXXXX']\n",
    "lut = lut_decoder(qec_code)\n",
    "\n",
    "stab_locs = np.array([[0,3,1,4],[0,3,6,2],[3,6,4,5]]) # Matching order!!\n",
    "ZZZZ_1c = [[5],(5,4),(2,5),(0,4),(3,5),(1,4),(5,4),[5]]\n",
    "XXXX_1c = [[4],(4,5),(5,2),(4,0),(5,3),(4,1),(4,5),[4]]\n",
    "ZZZZ_4a = [[5],(5,4),(3,5),(0,4),(1,4),(2,4),(5,4),[5]]\n",
    "XXXX_4a = [[4],(4,5),(5,3),(4,0),(4,1),(4,2),(4,5),[4]]\n",
    "gate_seqs = [ZZZZ_1c,ZZZZ_4a,ZZZZ_1c,XXXX_1c,XXXX_4a,XXXX_1c]\n",
    "labels = ['Z1','Z2','Z3','X1','X2','X3']\n",
    "\n",
    "\n",
    "flag_luts = {}\n",
    "for i,(stab_strings,stab_loc) in enumerate(itertools.product([['ZZZZ'],['XXXX']],stab_locs)):\n",
    "    flags,flag_error_set,flag_error_set_full = get_flag_error_set(num_qubits,stab_strings,fault_types,gate_seqs[i],verbose=0)\n",
    "    FT,flag_lut = check_FT(qec_code,flag_error_set,flags,stab_loc,verbose=1)\n",
    "    flag_luts[labels[i]] = flag_lut"
   ]
  },
  {
   "cell_type": "markdown",
   "id": "5fb04d1d-5c80-448f-aafb-a0246305d48e",
   "metadata": {},
   "source": [
    "# Assemble the full code"
   ]
  },
  {
   "cell_type": "code",
   "execution_count": 37,
   "id": "2fca9944-7c4f-44b6-a21c-8e1d95cdb5f6",
   "metadata": {},
   "outputs": [],
   "source": [
    "num_qubits = [7,3,3]\n",
    "bin2dec = 2**np.arange(6)[::-1]\n",
    "cirq_simulator = cirq.Simulator()\n",
    "p_depol,p_readout = 1e-3,1e-3\n",
    "\n",
    "# noise_model,readout_noise = None,None\n",
    "noise_model = cirq.NoiseModel.from_noise_model_like(cirq.depolarize(p=p_depol))\n",
    "readout_noise = cirq.BitFlipChannel(p=p_readout)\n",
    "\n",
    "qubits = init_qubits(num_qubits)\n",
    "\n",
    "# stab_X1 = create_cirq(qubits,X1245,noise_model,readout_noise,['synd_X1','flag_X1'])\n",
    "# stab_X2 = create_cirq(qubits,X1347,noise_model,readout_noise,['synd_X2','flag_X2'])\n",
    "# stab_X3 = create_cirq(qubits,X4567,noise_model,readout_noise,['synd_X3','flag_X3'])\n",
    "\n",
    "# order: Z1245,Z1347,Z4567 then X\n",
    "stabilizer_gateseqs = [[[10],(10,7),(0,7),(1,10),(3,7),(4,10),(10,7),[10],['m',7],['m',10]],\n",
    "                       [[11],(11,8),(2,11),(0,8),(3,8), (6,8),(11,8),[11],['m',8],['m',11]],\n",
    "                       [[12],(12,9),(3,9),(4,12),(6,9),(5,12),(12,9),[12],['m',9],['m',12]],\n",
    "                       [[7],(7,10),(7,0),(10,1),(7,3),(10,4),(7,10),[7],['m',7],['m',10]],\n",
    "                       [[8],(8,11),(11,2),(8,0),(8,3), (8,6),(8,11),[8],['m',8],['m',11]],\n",
    "                       [[9],(9,12),(9,3),(12,4),(9,6),(12,5),(9,12),[9],['m',9],['m',12]]]\n",
    "\n",
    "labels = ['Z1','Z2','Z3','X1','X2','X3']\n",
    "stabilizer_circuits = {l:create_cirq(qubits,\n",
    "                                     gate_seq,\n",
    "                                     noise_model,\n",
    "                                     readout_noise,\n",
    "                                     [f'synd_{l}',f'flag_{l}']) for gate_seq,l in zip(stabilizer_gateseqs,labels)}\n",
    "\n",
    "    \n",
    "steane_code = ['ZZIZZII','ZIZZIIZ','IIIZZZZ','XXIXXII','XIXXIIX','IIIXXXX']\n",
    "\n",
    "# stab_Z1 = create_cirq(qubits,Z1245,noise_model,readout_noise,['synd_Z1','flag_Z1'])\n",
    "# stab_Z2 = create_cirq(qubits,Z1347,noise_model,readout_noise,['synd_Z2','flag_Z2'])\n",
    "# stab_Z3 = create_cirq(qubits,Z4567,noise_model,readout_noise,['synd_Z3','flag_Z3'])\n",
    "# \n",
    "# stabs = [stab_Z1,stab_Z2,stab_Z3,stab_X1,stab_X2,stab_X3]\n",
    "# qec_code = ['ZZIZZII','ZIZZIIZ','IIIZZZZ','XXIXXII','XIXXIIX','IIIXXXX']\n",
    "lut = lut_decoder(steane_code)\n",
    "# print(stab_X1)\n",
    "# print(stab_X3)"
   ]
  },
  {
   "cell_type": "markdown",
   "id": "a2c0b179-e893-439f-91ca-8a569e8c3372",
   "metadata": {},
   "source": [
    "## Encoding\n",
    "We can choose to\n",
    "- correct immediately after projecting onto the wrong subspace\n",
    "- keep track of the syndrome"
   ]
  },
  {
   "cell_type": "code",
   "execution_count": 38,
   "id": "f9fda331-28b8-4841-9f42-7f5ed5e29d3a",
   "metadata": {},
   "outputs": [],
   "source": [
    "def encode(stabilizer_circuits,simulator,verbose=0):\n",
    "    '''\n",
    "    Encode logical 0 (up to 1-qubit error) using the 3 X-stabilizer circuits\n",
    "    Input:\n",
    "        stabilizer_circuits: [Z1,Z2,Z3,X1,X2,X3]\n",
    "    Output:\n",
    "        state: dict containing 'state_vector', 'syndrome' and 'syndrome_dec'\n",
    "    '''\n",
    "    \n",
    "    circuit = cirq.Circuit()\n",
    "    for c in list(stabilizer_circuits.values())[3:]:\n",
    "        circuit += c\n",
    "    \n",
    "    count = 0\n",
    "    while True:\n",
    "        count += 1\n",
    "        state = {}\n",
    "\n",
    "        results = simulator.simulate(circuit)\n",
    "        state['statevector'] = results.state_vector()\n",
    "\n",
    "        X_syndrome,X_flag = [],[]\n",
    "        for i in range(3):\n",
    "            X_syndrome.append(results.measurements[f'synd_X{i+1}'])\n",
    "            X_flag.append(results.measurements[f'flag_X{i+1}'])\n",
    "        X_syndrome,X_flag = np.array(X_syndrome).flatten(),np.array(X_flag).flatten()\n",
    "        if X_flag.sum() != 0:\n",
    "            continue\n",
    "            # state['syndrome'] = np.hstack([np.zeros(3),X_syndrome]).astype(int)\n",
    "            # state['syndrome_dec'] = state['syndrome']@bin2dec\n",
    "            # break\n",
    "        else:\n",
    "            state['syndrome'] = np.hstack([np.zeros(3),X_syndrome]).astype(int)\n",
    "            state['syndrome_dec'] = state['syndrome']@bin2dec\n",
    "            break\n",
    "    if verbose: print(f'Encoding with no flag trigged after {count} trial(s)!')\n",
    "    return state\n",
    "\n",
    "def encode_correct(state,qubits,num_qubits,simulator,lut):\n",
    "    '''\n",
    "    Correct the probabilistic encoding circuit (using stabilizer circuits) to the right subspace based on the measured syndromes\n",
    "    '''\n",
    "    if state['syndrome_dec'] == 0:\n",
    "        # print('No error detected!')\n",
    "        return state\n",
    "    circuit = cirq.Circuit(cirq.identity_each(*qubits)) # to trigger saving the state for all qubits\n",
    "    circuit += cirq.reset_each(*qubits[num_qubits[0]:]) # reset syndromes and flags\n",
    "    circuit += tab2circ(lut[state['syndrome_dec']],qubits[:num_qubits[0]]) # correction\n",
    "    results = simulator.simulate(circuit,initial_state=state['statevector'])\n",
    "    state['statevector'] = results.state_vector()\n",
    "    state['syndrome'] = np.zeros(6).astype(int)\n",
    "    state['syndrome_dec'] = 0\n",
    "    return state"
   ]
  },
  {
   "cell_type": "markdown",
   "id": "35ca936f-8d15-47d2-a4fc-14e64007886b",
   "metadata": {},
   "source": [
    "### Ideal"
   ]
  },
  {
   "cell_type": "code",
   "execution_count": 182,
   "id": "396d6c50-6694-49a1-be99-1aa130e4ab87",
   "metadata": {
    "tags": []
   },
   "outputs": [
    {
     "name": "stdout",
     "output_type": "stream",
     "text": [
      "Encoding success rate: 0.126\n"
     ]
    }
   ],
   "source": [
    "# no correction\n",
    "num_rep = int(1e3)\n",
    "diff = []\n",
    "for i in range(num_rep):\n",
    "    state = encode(stabilizer_circuits,cirq_simulator)\n",
    "    diff.append(abs(state['statevector']-logical0_state).sum())\n",
    "diff = np.array(diff)\n",
    "print('Encoding success rate:',(diff<1e-6).sum()/num_rep)"
   ]
  },
  {
   "cell_type": "code",
   "execution_count": 183,
   "id": "3bd55360-0735-4172-a761-5ce86d6f15b8",
   "metadata": {},
   "outputs": [
    {
     "name": "stdout",
     "output_type": "stream",
     "text": [
      "Encoding success rate: 1.0\n"
     ]
    }
   ],
   "source": [
    "# ignoring triggered flags\n",
    "# no correction\n",
    "num_rep = int(1e3)\n",
    "diff = []\n",
    "for i in range(num_rep):\n",
    "    state = encode(stabilizer_circuits,cirq_simulator)\n",
    "    state = encode_correct(state,qubits,num_qubits,cirq_simulator)\n",
    "    diff.append(abs(state['statevector']-logical0_state).sum())\n",
    "diff = np.array(diff)\n",
    "print('Encoding success rate:',(diff<1e-6).sum()/num_rep)"
   ]
  },
  {
   "cell_type": "markdown",
   "id": "29dd994c-6a9c-4a6d-9080-0895bdd0aedc",
   "metadata": {},
   "source": [
    "### Noisy: 1e-2"
   ]
  },
  {
   "cell_type": "code",
   "execution_count": 179,
   "id": "be9ff22b-a9b8-4e84-9e20-d17310f1ac42",
   "metadata": {},
   "outputs": [
    {
     "name": "stdout",
     "output_type": "stream",
     "text": [
      "Encoding success rate: 0.062\n"
     ]
    }
   ],
   "source": [
    "# ignoring triggered flags\n",
    "# no correction\n",
    "# p_depol,p_readout = 1e-2,1e-2\n",
    "num_rep = int(1e3)\n",
    "diff = []\n",
    "for i in range(num_rep):\n",
    "    state = encode(stabilizer_circuits,cirq_simulator)\n",
    "    diff.append(abs(state['statevector']-logical0_state).sum())\n",
    "diff = np.array(diff)\n",
    "print('Encoding success rate:',(diff<1e-6).sum()/num_rep)"
   ]
  },
  {
   "cell_type": "code",
   "execution_count": 172,
   "id": "8fe739b6-6710-4ed3-bc2a-6840f29ef47f",
   "metadata": {},
   "outputs": [
    {
     "name": "stdout",
     "output_type": "stream",
     "text": [
      "Encoding success rate: 0.671\n"
     ]
    }
   ],
   "source": [
    "# ignoring triggered flags\n",
    "# p_depol,p_readout = 1e-2,1e-2\n",
    "num_rep = int(1e3)\n",
    "diff = []\n",
    "for i in range(num_rep):\n",
    "    state = encode(stabilizer_circuits,cirq_simulator)\n",
    "    state = encode_correct(state,qubits,num_qubits,cirq_simulator)\n",
    "    diff.append(abs(state['statevector']-logical0_state).sum())\n",
    "diff = np.array(diff)\n",
    "print('Encoding success rate:',(diff<1e-6).sum()/num_rep)"
   ]
  },
  {
   "cell_type": "code",
   "execution_count": 176,
   "id": "56c86972-3e03-4257-80cf-9643dc0ab279",
   "metadata": {},
   "outputs": [
    {
     "name": "stdout",
     "output_type": "stream",
     "text": [
      "Encoding success rate: 0.767\n"
     ]
    }
   ],
   "source": [
    "# only consider no flags triggered\n",
    "# p_depol,p_readout = 1e-2,1e-2\n",
    "num_rep = int(1e3)\n",
    "diff = []\n",
    "for i in range(num_rep):\n",
    "    state = encode(stabilizer_circuits,cirq_simulator)\n",
    "    state = encode_correct(state,qubits,num_qubits,cirq_simulator)\n",
    "    diff.append(abs(state['statevector']-logical0_state).sum())\n",
    "diff = np.array(diff)\n",
    "print('Encoding success rate:',(diff<1e-6).sum()/num_rep)"
   ]
  },
  {
   "cell_type": "markdown",
   "id": "0b9c1c5c-6bad-4b79-a1a5-3980316f1a5d",
   "metadata": {},
   "source": [
    "### Noisy: 1e-3"
   ]
  },
  {
   "cell_type": "code",
   "execution_count": 35,
   "id": "27bd17d0-05a2-441d-977a-52cac5491797",
   "metadata": {},
   "outputs": [
    {
     "name": "stdout",
     "output_type": "stream",
     "text": [
      "Encoding success rate: 0.97\n"
     ]
    }
   ],
   "source": [
    "# only consider no flags triggered\n",
    "# p_depol,p_readout = 1e-2,1e-2\n",
    "num_rep = int(1e3)\n",
    "diff = []\n",
    "for i in range(num_rep):\n",
    "    state = encode(stabilizer_circuits,cirq_simulator)\n",
    "    state = encode_correct(state,qubits,num_qubits,cirq_simulator,lut)\n",
    "    diff.append(abs(state['statevector']-logical0_state).sum())\n",
    "diff = np.array(diff)\n",
    "print('Encoding success rate:',(diff<1e-6).sum()/num_rep)"
   ]
  },
  {
   "cell_type": "markdown",
   "id": "5d8eb6bb-34df-44c5-9f66-9907e9bf70bd",
   "metadata": {},
   "source": [
    "## QEC cycle"
   ]
  },
  {
   "cell_type": "code",
   "execution_count": 98,
   "id": "885c84c0-973d-4039-a7d9-a3f825e5519d",
   "metadata": {},
   "outputs": [
    {
     "data": {
      "text/plain": [
       "array([0, 0, 0, 0, 0, 0])"
      ]
     },
     "execution_count": 98,
     "metadata": {},
     "output_type": "execute_result"
    }
   ],
   "source": [
    "state['syndrome']"
   ]
  },
  {
   "cell_type": "code",
   "execution_count": null,
   "id": "1c8fca06-1e50-48ef-aac4-ac6d29c82462",
   "metadata": {},
   "outputs": [],
   "source": []
  },
  {
   "cell_type": "code",
   "execution_count": 117,
   "id": "1bfeb461-5d97-4d4b-b043-64f96bf1386a",
   "metadata": {},
   "outputs": [
    {
     "data": {
      "text/plain": [
       "6"
      ]
     },
     "execution_count": 117,
     "metadata": {},
     "output_type": "execute_result"
    }
   ],
   "source": []
  },
  {
   "cell_type": "code",
   "execution_count": null,
   "id": "33f4dd8f-6d76-4069-a94f-2e5462385611",
   "metadata": {},
   "outputs": [],
   "source": [
    "bin2dec = 2**np.arange(len(stabilizer_circuits))[::-1]"
   ]
  },
  {
   "cell_type": "code",
   "execution_count": 5,
   "id": "8c946cc4-fbcb-4e6e-8bfd-1faa6516e23e",
   "metadata": {},
   "outputs": [],
   "source": [
    "def qec_cycle(state,stabilizer_circuits,simulator,lut):\n",
    "    '''\n",
    "    Sequentially measure each stabilizer\n",
    "    '''\n",
    "    print('----------')\n",
    "    \n",
    "    current_synd = state['syndrome']\n",
    "    bin2decs = [2**np.arange(len(stabilizer_circuits)+i)[::-1] for i in range(3)]\n",
    "    # First round\n",
    "    synds1 = []\n",
    "    repeat = False\n",
    "    for i,label in enumerate(stabilizer_circuits):\n",
    "        results = simulator.simulate(stabilizer_circuits[label],initial_state=state['statevector'])\n",
    "        state['statevector'] = results.state_vector()\n",
    "        synd = results.measurements[f'synd_{label}'].item()\n",
    "        synds1.append(synd)\n",
    "        flag = results.measurements[f'flag_{label}']\n",
    "        if synd != current_synd[i]:\n",
    "            print('>>> 1st round: Syndrome triggered!')\n",
    "            repeat = True\n",
    "            break       \n",
    "        if flag.sum() != 0:\n",
    "            print('>>> 1st round: Flags triggered!')\n",
    "            repeat = True \n",
    "            break\n",
    "            \n",
    "    if not repeat:\n",
    "        print('No fault detected!')\n",
    "    else:\n",
    "        flag_label = label\n",
    "        flag1 = flag\n",
    "\n",
    "        # Second round\n",
    "        synds2 = []\n",
    "        flags2 = []\n",
    "        for label in stabilizer_circuits:\n",
    "            results = simulator.simulate(stabilizer_circuits[label],initial_state=state['statevector'])\n",
    "            state['statevector'] = results.state_vector()\n",
    "            synd = results.measurements[f'synd_{label}'].item()\n",
    "            flag = results.measurements[f'flag_{label}']\n",
    "            synds2.append(synd)\n",
    "            flags2.append(flag)\n",
    "            if flag.sum() != 0:\n",
    "                print('>>> 2nd round: Flags triggered!')\n",
    "        flags2 = np.array(flags2)\n",
    "        \n",
    "        # If no flag is triggered in the first round\n",
    "        # then correct based on syndrome in the second round\n",
    "        \n",
    "        if flag1.sum() == 0:\n",
    "            state['syndrome'] = synds2\n",
    "            state['syndrome_dec']\n",
    "\n",
    "        print('flag1:',flag1)\n",
    "        print('synd1:',synds1)\n",
    "        print('flag2:',flags2.T)\n",
    "        print('synd2:',synds2)\n",
    "        \n",
    "    return state"
   ]
  },
  {
   "cell_type": "markdown",
   "id": "a6072886-b03d-429e-8722-f9e3e49e53a8",
   "metadata": {},
   "source": [
    "## Decode?"
   ]
  },
  {
   "cell_type": "code",
   "execution_count": 36,
   "id": "92e3135b-d6de-400a-b29c-48fb045886dd",
   "metadata": {},
   "outputs": [
    {
     "name": "stdout",
     "output_type": "stream",
     "text": [
      "\n",
      " {'statevector': array([0.+0.j, 0.+0.j, 0.+0.j, ..., 0.+0.j, 0.+0.j, 0.+0.j],\n",
      "      dtype=complex64), 'syndrome': array([0, 0, 0, 1, 1, 1]), 'syndrome_dec': 7}\n",
      "{'statevector': array([ 0.35355327+0.j,  0.        +0.j,  0.        +0.j, ...,\n",
      "       -0.        +0.j, -0.        +0.j, -0.        +0.j], dtype=complex64), 'syndrome': array([0, 0, 0, 0, 0, 0]), 'syndrome_dec': 0}\n",
      "\n",
      "Difference from logical 0 state:  2.8284266\n",
      "----------\n",
      ">>> 1st round: Syndrome triggered!\n",
      "flag1: [0]\n",
      "synd1: [0, 0, 0, 0, 1]\n",
      "flag2: [[0 0 0 0 0 0]]\n",
      "synd2: [0, 1, 0, 0, 0, 0]\n"
     ]
    }
   ],
   "source": [
    "state = encode(stabilizer_circuits,cirq_simulator)\n",
    "print('\\n',state)\n",
    "if state['syndrome_dec'] == 0:\n",
    "    logical0_state = state['statevector']\n",
    "state = encode_correct(state,qubits,num_qubits,cirq_simulator,lut)\n",
    "print(state)\n",
    "print('\\nDifference from logical 0 state: ',abs(state['statevector']-logical0_state).sum())\n",
    "\n",
    "state = qec_cycle(state,stabilizer_circuits,cirq_simulator,lut)"
   ]
  },
  {
   "cell_type": "code",
   "execution_count": 204,
   "id": "4a33c1ae-fb09-4a35-97c0-93c2be4a5cec",
   "metadata": {},
   "outputs": [
    {
     "data": {
      "text/plain": [
       "{'statevector': array([-0.+0.j,  0.+0.j, -0.+0.j, ...,  0.+0.j,  0.+0.j,  0.+0.j],\n",
       "       dtype=complex64),\n",
       " 'syndrome': [1, 0, 0, 0, 1, 0],\n",
       " 'syndrome_dec': 0}"
      ]
     },
     "execution_count": 204,
     "metadata": {},
     "output_type": "execute_result"
    }
   ],
   "source": [
    "old_state"
   ]
  },
  {
   "cell_type": "code",
   "execution_count": null,
   "id": "e2af04b9-db5b-4df7-b64c-91671903e6d6",
   "metadata": {},
   "outputs": [],
   "source": [
    "def correct(state,qubits,num_qubits,simulator,lut):\n",
    "    '''\n",
    "    Correct the probabilistic encoding circuit (using stabilizer circuits) to the right subspace based on the measured syndromes\n",
    "    '''\n",
    "    if state['syndrome_dec'] == 0:\n",
    "        # print('No error detected!')\n",
    "        return state\n",
    "    circuit = cirq.Circuit(cirq.identity_each(*qubits)) # to trigger saving the state for all qubits\n",
    "    circuit += cirq.reset_each(*qubits[num_qubits[0]:]) # reset syndromes and flags\n",
    "    circuit += tab2circ(lut[state['syndrome_dec']],qubits[:num_qubits[0]]) # correction\n",
    "    results = simulator.simulate(circuit,initial_state=state['statevector'])\n",
    "    state['statevector'] = results.state_vector()\n",
    "    state['syndrome'] = np.zeros(6).astype(int)\n",
    "    state['syndrome_dec'] = 0\n",
    "    return state"
   ]
  },
  {
   "cell_type": "code",
   "execution_count": 195,
   "id": "4fcb1099-c0a9-4cae-8353-db6e07d4b161",
   "metadata": {},
   "outputs": [
    {
     "name": "stdout",
     "output_type": "stream",
     "text": [
      "\n",
      "Difference from logical 0 state:  5.6568537\n"
     ]
    }
   ],
   "source": [
    "state = encode_correct(state,qubits,num_qubits,cirq_simulator)\n",
    "print('\\nDifference from logical 0 state: ',abs(state['statevector']-logical0_state).sum())"
   ]
  },
  {
   "cell_type": "code",
   "execution_count": null,
   "id": "7afa3f9e-5d34-424c-86aa-67d1b3f9f1a7",
   "metadata": {},
   "outputs": [],
   "source": []
  },
  {
   "cell_type": "code",
   "execution_count": 118,
   "id": "2f8964f3-f3a7-4f72-949e-2e5fe65e8f45",
   "metadata": {},
   "outputs": [
    {
     "data": {
      "text/plain": [
       "array([ True, False, False])"
      ]
     },
     "execution_count": 118,
     "metadata": {},
     "output_type": "execute_result"
    }
   ],
   "source": [
    "(np.array([1,0,1])==1) & (np.array([0,1,1])==0)"
   ]
  },
  {
   "cell_type": "code",
   "execution_count": 10,
   "id": "823e2c98-3de4-42f0-9dfc-e22ba9e9b935",
   "metadata": {},
   "outputs": [
    {
     "data": {
      "text/plain": [
       "{6: array([1, 0, 0, 0, 0, 0, 0, 0, 0, 0, 0, 0, 0, 0]),\n",
       " 4: array([0, 1, 0, 0, 0, 0, 0, 0, 0, 0, 0, 0, 0, 0]),\n",
       " 2: array([0, 0, 1, 0, 0, 0, 0, 0, 0, 0, 0, 0, 0, 0]),\n",
       " 7: array([0, 0, 0, 1, 0, 0, 0, 0, 0, 0, 0, 0, 0, 0]),\n",
       " 5: array([0, 0, 0, 0, 1, 0, 0, 0, 0, 0, 0, 0, 0, 0]),\n",
       " 1: array([0, 0, 0, 0, 0, 1, 0, 0, 0, 0, 0, 0, 0, 0]),\n",
       " 3: array([0, 0, 0, 0, 0, 0, 1, 0, 0, 0, 0, 0, 0, 0]),\n",
       " 48: array([0, 0, 0, 0, 0, 0, 0, 1, 0, 0, 0, 0, 0, 0]),\n",
       " 32: array([0, 0, 0, 0, 0, 0, 0, 0, 1, 0, 0, 0, 0, 0]),\n",
       " 16: array([0, 0, 0, 0, 0, 0, 0, 0, 0, 1, 0, 0, 0, 0]),\n",
       " 56: array([0, 0, 0, 0, 0, 0, 0, 0, 0, 0, 1, 0, 0, 0]),\n",
       " 40: array([0, 0, 0, 0, 0, 0, 0, 0, 0, 0, 0, 1, 0, 0]),\n",
       " 8: array([0, 0, 0, 0, 0, 0, 0, 0, 0, 0, 0, 0, 1, 0]),\n",
       " 24: array([0, 0, 0, 0, 0, 0, 0, 0, 0, 0, 0, 0, 0, 1]),\n",
       " 54: array([1, 0, 0, 0, 0, 0, 0, 1, 0, 0, 0, 0, 0, 0]),\n",
       " 36: array([0, 1, 0, 0, 0, 0, 0, 0, 1, 0, 0, 0, 0, 0]),\n",
       " 18: array([0, 0, 1, 0, 0, 0, 0, 0, 0, 1, 0, 0, 0, 0]),\n",
       " 63: array([0, 0, 0, 1, 0, 0, 0, 0, 0, 0, 1, 0, 0, 0]),\n",
       " 45: array([0, 0, 0, 0, 1, 0, 0, 0, 0, 0, 0, 1, 0, 0]),\n",
       " 9: array([0, 0, 0, 0, 0, 1, 0, 0, 0, 0, 0, 0, 1, 0]),\n",
       " 27: array([0, 0, 0, 0, 0, 0, 1, 0, 0, 0, 0, 0, 0, 1])}"
      ]
     },
     "execution_count": 10,
     "metadata": {},
     "output_type": "execute_result"
    }
   ],
   "source": [
    "lut"
   ]
  },
  {
   "cell_type": "code",
   "execution_count": 9,
   "id": "5c9482b0-ba85-41bc-afce-174930cd06e1",
   "metadata": {},
   "outputs": [
    {
     "ename": "KeyError",
     "evalue": "0",
     "output_type": "error",
     "traceback": [
      "\u001b[0;31m---------------------------------------------------------------------------\u001b[0m",
      "\u001b[0;31mKeyError\u001b[0m                                  Traceback (most recent call last)",
      "\u001b[0;32m/var/folders/kj/jgvpvl2x0pj7x_3xrc02tpt00000gn/T/ipykernel_46787/3549286329.py\u001b[0m in \u001b[0;36m<module>\u001b[0;34m\u001b[0m\n\u001b[1;32m      1\u001b[0m \u001b[0msyndromes\u001b[0m \u001b[0;34m=\u001b[0m \u001b[0mnp\u001b[0m\u001b[0;34m.\u001b[0m\u001b[0mhstack\u001b[0m\u001b[0;34m(\u001b[0m\u001b[0mlist\u001b[0m\u001b[0;34m(\u001b[0m\u001b[0mresults\u001b[0m\u001b[0;34m.\u001b[0m\u001b[0mmeasurements\u001b[0m\u001b[0;34m.\u001b[0m\u001b[0mvalues\u001b[0m\u001b[0;34m(\u001b[0m\u001b[0;34m)\u001b[0m\u001b[0;34m)\u001b[0m\u001b[0;34m)\u001b[0m\u001b[0;34m\u001b[0m\u001b[0;34m\u001b[0m\u001b[0m\n\u001b[0;32m----> 2\u001b[0;31m \u001b[0mtab2circ\u001b[0m\u001b[0;34m(\u001b[0m\u001b[0mlut\u001b[0m\u001b[0;34m[\u001b[0m\u001b[0msyndromes\u001b[0m\u001b[0;34m@\u001b[0m\u001b[0mbin2dec\u001b[0m\u001b[0;34m]\u001b[0m\u001b[0;34m,\u001b[0m\u001b[0mqubits\u001b[0m\u001b[0;34m)\u001b[0m\u001b[0;34m\u001b[0m\u001b[0;34m\u001b[0m\u001b[0m\n\u001b[0m",
      "\u001b[0;31mKeyError\u001b[0m: 0"
     ]
    }
   ],
   "source": [
    "syndromes = np.hstack(list(results.measurements.values()))\n",
    "tab2circ(lut[syndromes@bin2dec],qubits)"
   ]
  },
  {
   "cell_type": "code",
   "execution_count": 32,
   "id": "b49e06ef-b065-4f7f-8349-6f29bf96638e",
   "metadata": {},
   "outputs": [
    {
     "data": {
      "text/plain": [
       "'IXIIIII'"
      ]
     },
     "execution_count": 32,
     "metadata": {},
     "output_type": "execute_result"
    }
   ],
   "source": [
    "tab2str(lut[syndromes@bin2dec])"
   ]
  },
  {
   "cell_type": "code",
   "execution_count": 40,
   "id": "e7b17939-bd3c-4f3c-bad1-e7f1ea73800f",
   "metadata": {},
   "outputs": [
    {
     "data": {
      "text/plain": [
       "6"
      ]
     },
     "execution_count": 40,
     "metadata": {},
     "output_type": "execute_result"
    }
   ],
   "source": [
    "list(lut.keys())[0]"
   ]
  },
  {
   "cell_type": "code",
   "execution_count": 33,
   "id": "8345606a-02b0-44b8-8929-f418f8358fa8",
   "metadata": {},
   "outputs": [
    {
     "data": {
      "text/plain": [
       "measurements: enc_flag_X1=0 enc_flag_X2=0 enc_flag_X3=0 enc_synd_X1=0 enc_synd_X2=0 enc_synd_X3=1\n",
       "output vector: 0.354|0000000000001⟩ - 0.354|0001111000001⟩ + 0.354|0110101000001⟩ - 0.354|0111010000001⟩ - 0.354|1010110000001⟩ + 0.354|1011001000001⟩ - 0.354|1100011000001⟩ + 0.354|1101100000001⟩"
      ]
     },
     "execution_count": 33,
     "metadata": {},
     "output_type": "execute_result"
    }
   ],
   "source": [
    "results"
   ]
  },
  {
   "cell_type": "code",
   "execution_count": 9,
   "id": "c6e70921-3d63-48ab-b32d-ee80351fb36a",
   "metadata": {},
   "outputs": [
    {
     "data": {
      "text/plain": [
       "measurements: enc_flag_X1=0 enc_flag_X2=0 enc_flag_X3=0 enc_synd_X1=0 enc_synd_X2=0 enc_synd_X3=0\n",
       "output vector: 0.354|0000000000000⟩ + 0.354|0001111000000⟩ - 0.354|0110101000000⟩ - 0.354|0111010000000⟩ - 0.354|1010110000000⟩ - 0.354|1011001000000⟩ + 0.354|1100011000000⟩ + 0.354|1101100000000⟩"
      ]
     },
     "execution_count": 9,
     "metadata": {},
     "output_type": "execute_result"
    }
   ],
   "source": [
    "results_1"
   ]
  },
  {
   "cell_type": "code",
   "execution_count": 275,
   "id": "e9807c36-f69e-4f3d-9d3c-ab5194d35899",
   "metadata": {},
   "outputs": [
    {
     "data": {
      "text/plain": [
       "{'enc_flag_X1': array([0], dtype=uint8),\n",
       " 'enc_synd_X1': array([0], dtype=uint8),\n",
       " 'enc_flag_X2': array([0], dtype=uint8),\n",
       " 'enc_synd_X2': array([1], dtype=uint8),\n",
       " 'enc_flag_X3': array([0], dtype=uint8),\n",
       " 'enc_synd_X3': array([0], dtype=uint8),\n",
       " 'enc_flag_X4': array([0], dtype=uint8),\n",
       " 'enc_synd_X4': array([0], dtype=uint8),\n",
       " 'enc_flag_X5': array([0], dtype=uint8),\n",
       " 'enc_synd_X5': array([0], dtype=uint8),\n",
       " 'enc_flag_X6': array([0], dtype=uint8),\n",
       " 'enc_synd_X6': array([0], dtype=uint8)}"
      ]
     },
     "execution_count": 275,
     "metadata": {},
     "output_type": "execute_result"
    }
   ],
   "source": [
    "results.measurements"
   ]
  },
  {
   "cell_type": "code",
   "execution_count": 244,
   "id": "69bef8e7-b9f7-4b17-bf12-f87433928284",
   "metadata": {},
   "outputs": [
    {
     "data": {
      "text/plain": [
       "9.536743e-07"
      ]
     },
     "execution_count": 244,
     "metadata": {},
     "output_type": "execute_result"
    }
   ],
   "source": [
    "psi = results.state_vector()\n",
    "abs(state['statevector']-psi).sum()"
   ]
  },
  {
   "cell_type": "code",
   "execution_count": 231,
   "id": "9ce303c7-b29a-48f3-a375-03cedd1f3a5e",
   "metadata": {},
   "outputs": [],
   "source": []
  },
  {
   "cell_type": "code",
   "execution_count": 210,
   "id": "306ac0e9-c86b-4d8e-a069-1c46885c9ee7",
   "metadata": {},
   "outputs": [
    {
     "name": "stdout",
     "output_type": "stream",
     "text": [
      "[0.35355327+0.j 0.        +0.j 0.        +0.j ... 0.        +0.j\n",
      " 0.        +0.j 0.        +0.j]\n"
     ]
    },
    {
     "data": {
      "text/plain": [
       "{'enc_flag_X1': array([0], dtype=uint8),\n",
       " 'enc_synd_X1': array([0], dtype=uint8),\n",
       " 'enc_flag_X2': array([0], dtype=uint8),\n",
       " 'enc_synd_X2': array([0], dtype=uint8),\n",
       " 'enc_flag_X3': array([0], dtype=uint8),\n",
       " 'enc_synd_X3': array([0], dtype=uint8)}"
      ]
     },
     "execution_count": 210,
     "metadata": {},
     "output_type": "execute_result"
    }
   ],
   "source": [
    "results = cirq_simulator.simulate(encode_circuit,initial_state=state['statevector'])\n",
    "print(results.state_vector())\n",
    "results.measurements"
   ]
  },
  {
   "cell_type": "code",
   "execution_count": 196,
   "id": "abb9e9e4-b2e1-46ca-892a-2b24431a0446",
   "metadata": {},
   "outputs": [
    {
     "data": {
      "text/plain": [
       "array([0.35355324+0.j, 0.        +0.j, 0.        +0.j, ...,\n",
       "       0.        +0.j, 0.        +0.j, 0.        +0.j], dtype=complex64)"
      ]
     },
     "execution_count": 196,
     "metadata": {},
     "output_type": "execute_result"
    }
   ],
   "source": [
    "results.state_vector()"
   ]
  },
  {
   "cell_type": "code",
   "execution_count": 149,
   "id": "7bcf0f3d-5832-472a-8df8-cbd8f4261961",
   "metadata": {},
   "outputs": [
    {
     "data": {
      "text/plain": [
       "0j"
      ]
     },
     "execution_count": 149,
     "metadata": {},
     "output_type": "execute_result"
    }
   ],
   "source": [
    "state['statevector'].sum()"
   ]
  },
  {
   "cell_type": "code",
   "execution_count": 59,
   "id": "615beac0-3056-4982-ab4d-90dcb522cbf2",
   "metadata": {},
   "outputs": [],
   "source": [
    "state = {}\n",
    "state['statevector'] = results.state_vector()"
   ]
  },
  {
   "cell_type": "code",
   "execution_count": 55,
   "id": "7865ad0b-5567-41e5-a4d4-2059c0616a40",
   "metadata": {},
   "outputs": [
    {
     "data": {
      "text/plain": [
       "{'enc_flag_X1': array([0], dtype=uint8),\n",
       " 'enc_synd_X1': array([1], dtype=uint8),\n",
       " 'enc_flag_X2': array([0], dtype=uint8),\n",
       " 'enc_synd_X2': array([0], dtype=uint8),\n",
       " 'enc_flag_X3': array([0], dtype=uint8),\n",
       " 'enc_synd_X3': array([0], dtype=uint8)}"
      ]
     },
     "execution_count": 55,
     "metadata": {},
     "output_type": "execute_result"
    }
   ],
   "source": [
    "results.measurements"
   ]
  },
  {
   "cell_type": "code",
   "execution_count": null,
   "id": "86d32353-f3a2-4eef-a8c8-21f46382db77",
   "metadata": {},
   "outputs": [],
   "source": [
    "def qec_cycle():\n",
    "    "
   ]
  },
  {
   "cell_type": "code",
   "execution_count": 53,
   "id": "34b75180-9b00-46b1-b928-36c014021a8c",
   "metadata": {},
   "outputs": [
    {
     "data": {
      "text/plain": [
       "{'enc_flag_X1': array([[0],\n",
       "        [0],\n",
       "        [0],\n",
       "        ...,\n",
       "        [0],\n",
       "        [0],\n",
       "        [0]], dtype=int8),\n",
       " 'enc_synd_X1': array([[1],\n",
       "        [1],\n",
       "        [0],\n",
       "        ...,\n",
       "        [1],\n",
       "        [0],\n",
       "        [1]], dtype=int8),\n",
       " 'enc_flag_X2': array([[0],\n",
       "        [0],\n",
       "        [0],\n",
       "        ...,\n",
       "        [0],\n",
       "        [0],\n",
       "        [0]], dtype=int8),\n",
       " 'enc_synd_X2': array([[0],\n",
       "        [1],\n",
       "        [1],\n",
       "        ...,\n",
       "        [0],\n",
       "        [1],\n",
       "        [0]], dtype=int8),\n",
       " 'enc_flag_X3': array([[0],\n",
       "        [0],\n",
       "        [0],\n",
       "        ...,\n",
       "        [0],\n",
       "        [0],\n",
       "        [0]], dtype=int8),\n",
       " 'enc_synd_X3': array([[1],\n",
       "        [1],\n",
       "        [1],\n",
       "        ...,\n",
       "        [1],\n",
       "        [0],\n",
       "        [1]], dtype=int8)}"
      ]
     },
     "execution_count": 53,
     "metadata": {},
     "output_type": "execute_result"
    }
   ],
   "source": [
    "results = cirq_simulator.run(encode_circuit,repetitions=num_rep)\n",
    "results.measurements"
   ]
  },
  {
   "cell_type": "code",
   "execution_count": null,
   "id": "41e00c86-ac88-4b9b-906b-f55204e000e7",
   "metadata": {},
   "outputs": [],
   "source": []
  }
 ],
 "metadata": {
  "kernelspec": {
   "display_name": "qcircuit64",
   "language": "python",
   "name": "qcircuit64"
  },
  "language_info": {
   "codemirror_mode": {
    "name": "ipython",
    "version": 3
   },
   "file_extension": ".py",
   "mimetype": "text/x-python",
   "name": "python",
   "nbconvert_exporter": "python",
   "pygments_lexer": "ipython3",
   "version": "3.9.0"
  },
  "toc-autonumbering": true
 },
 "nbformat": 4,
 "nbformat_minor": 5
}
